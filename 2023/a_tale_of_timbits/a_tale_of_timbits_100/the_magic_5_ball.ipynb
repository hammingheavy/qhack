{
 "cells": [
  {
   "cell_type": "markdown",
   "id": "9c3156e5",
   "metadata": {},
   "source": [
    "## Challenge code\n",
    " \n",
    " In the code below, you are given various functions:\n",
    " - `oracle_matrix`: which encodes Doc Trine's location in the hypercube.\n",
    " - `noisy_Hadamard`: which applies a noisy Hadamard gate, with a\n",
    " \tprobability `lmbda` of replacing an incoming or outgoing qubit\n",
    " \tstate with something random.\n",
    " -  `noisy_BernsteinVazirani`: which implements the Bernstein-Vazirani\n",
    " algorithm using the oracle and the noisy Hadamard operation `noisy_Hadamard`. **You must complete this\n",
    " function**.\n",
    " \n",
    " You may find this resource helpful:\n",
    " \n",
    " - [Bernstein-Vazirani algorithm](https://en.wikipedia.org/wiki/Bernstein%E2%80%93Vazirani_algorithm)\n",
    " \n",
    " ### Inputs\n",
    " \n",
    " The noisy Bernstein-Vazirani circuit `noisy_BernsteinVazirani` takes as input the\n",
    " probability  `lmbda (float)` of replacing the state of a qubit.\n",
    " \n",
    " ### Output\n",
    " \n",
    " Your `noisy_BernsteinVazirani` circuit should correctly output the expectation value\n",
    " of the Pauli-$Z$ operator on each qubit (`[float]`). The pattern of\n",
    " positive and negative expectations gives the cell number for any value\n",
    " of $\\lambda$, showing that Bernstein–Vazirani is robust to noise.\n",
    " \n",
    " If your solution matches the correct one within the given tolerance\n",
    " specified in `check` (in this case it's a `1e-4` relative error\n",
    " tolerance), the output will be `\"Correct!\"` Otherwise, you will\n",
    " receive a `\"Wrong answer\"` prompt.\n",
    " ### Imports\n",
    " The cell below specifies the libraries you should use in this challenge. Run the cell to import the libraries. ***Do not modify the cell.***"
   ]
  },
  {
   "cell_type": "code",
   "execution_count": null,
   "id": "d9759717",
   "metadata": {},
   "outputs": [],
   "source": [
    "import json\n",
    "import pennylane as qml\n",
    "from pennylane import numpy as np"
   ]
  },
  {
   "cell_type": "markdown",
   "id": "9a1ff1da",
   "metadata": {},
   "source": [
    "### Code\n",
    " Complete the code below. Note that during QHack, some sections were not editable. We've marked those sections accordingly here, but you can still edit them if you wish."
   ]
  },
  {
   "cell_type": "code",
   "execution_count": null,
   "id": "346f9286",
   "metadata": {},
   "outputs": [],
   "source": [
    "# Uneditable section #\n",
    "def noisy_Hadamard(lmbda, wire):\n",
    "    \"\"\"A Hadamard gate with depolarizing noise on either side.\n",
    "    \n",
    "    Args:\n",
    "        lmbda (float): The parameter defining the depolarizing channel.\n",
    "        wire (int): The wire the depolarizing channel acts on.\n",
    "    \"\"\"\n",
    "    qml.DepolarizingChannel(lmbda, wires=wire)\n",
    "    qml.Hadamard(wire)\n",
    "    qml.DepolarizingChannel(lmbda, wires=wire)\n",
    "\n",
    "# Oracle matrix for Doc Trine's cell number\n",
    "\n",
    "flips = [1, 3, 5, 7, 8, 10, 12, 14, 16, 18, 20, 22, 25, 27, 29, 31]\n",
    "\n",
    "oracle_matrix = np.eye(2**5)\n",
    "for i in flips:\n",
    "    oracle_matrix[i, i] = -1\n",
    "\n",
    "# Implement the Bernstein-Vazirani algorithm with depolarizing noise\n",
    "\n",
    "dev = qml.device(\"default.mixed\", wires = 5)\n",
    "@qml.qnode(dev)\n",
    "def noisy_BernsteinVazirani(lmbda):\n",
    "    \"\"\"Runs the Bernstein-Vazirani algorithm with depolarizing noise.\n",
    "\n",
    "    Args:\n",
    "        lmbda (float): The probability of erasing the state of a qubit.\n",
    "\n",
    "    Returns:\n",
    "        (list(float)): Expectation values for PauliZ on all n wires.\n",
    "    \"\"\"\n",
    "\n",
    "    # End of uneditable section #\n",
    "\n",
    "\n",
    "    # Put your code here #\n",
    "\n",
    "\n",
    "# Uneditable section #\n",
    "\n",
    "    return [qml.expval(qml.PauliZ(i)) for i in range(5)]"
   ]
  },
  {
   "cell_type": "markdown",
   "id": "99867155",
   "metadata": {},
   "source": [
    "These functions are responsible for testing the solution. You will need to run the cell below. ***Do not modify the cell.***"
   ]
  },
  {
   "cell_type": "code",
   "execution_count": null,
   "id": "bc2481f2",
   "metadata": {},
   "outputs": [],
   "source": [
    "def run(test_case_input: str) -> str:\n",
    "\n",
    "    lmbda = json.loads(test_case_input)\n",
    "    output = noisy_BernsteinVazirani(lmbda).tolist()\n",
    "\n",
    "    return str(output)\n",
    "\n",
    "def check(solution_output: str, expected_output: str) -> None:\n",
    "    \n",
    "    solution_output = json.loads(solution_output)\n",
    "    expected_output = json.loads(expected_output)\n",
    "    assert np.allclose(\n",
    "        solution_output, expected_output, rtol=1e-4\n",
    "    ), \"Your noisy Bernstein-Vazirani algorithm isn't giving the right answers!\""
   ]
  },
  {
   "cell_type": "markdown",
   "id": "7ee648dd",
   "metadata": {},
   "source": [
    "### Test cases\n",
    " Running the cell below will load the test cases. ***Do not modify the cell***.\n",
    " - input: 0.1\n",
    " \t+ expected output: [-0.5641679, -0.5641679,  0.5641679,  0.5641679, -0.5641679]\n",
    " - input: 0.99\n",
    " \t+ expected output: [-0.01048576, -0.01048576,  0.01048576,  0.01048576, -0.01048576]"
   ]
  },
  {
   "cell_type": "code",
   "execution_count": null,
   "id": "ec7b17ae",
   "metadata": {},
   "outputs": [],
   "source": [
    "test_cases = [['0.1', '[-0.5641679, -0.5641679,  0.5641679,  0.5641679, -0.5641679]'], ['0.99', '[-0.01048576, -0.01048576,  0.01048576,  0.01048576, -0.01048576]']]"
   ]
  },
  {
   "cell_type": "markdown",
   "id": "1a8cbe1e",
   "metadata": {},
   "source": [
    "### Solution testing\n",
    " Once you have run every cell above, including the one with your code, the cell below will test your solution. Run the cell. If you are correct for all of the test cases, it means your solutions is correct. Otherwise, you need to double check your work. ***Do not modify the cell below.***"
   ]
  },
  {
   "cell_type": "code",
   "execution_count": null,
   "id": "a04b2280",
   "metadata": {},
   "outputs": [],
   "source": [
    "for i, (input_, expected_output) in enumerate(test_cases):\n",
    "    print(f\"Running test case {i} with input '{input_}'...\")\n",
    "\n",
    "    try:\n",
    "        output = run(input_)\n",
    "\n",
    "    except Exception as exc:\n",
    "        print(f\"Runtime Error. {exc}\")\n",
    "\n",
    "    else:\n",
    "        if message := check(output, expected_output):\n",
    "            print(f\"Wrong Answer. Have: '{output}'. Want: '{expected_output}'.\")\n",
    "\n",
    "        else:\n",
    "            print(\"Correct!\")"
   ]
  }
 ],
 "metadata": {},
 "nbformat": 4,
 "nbformat_minor": 5
}
