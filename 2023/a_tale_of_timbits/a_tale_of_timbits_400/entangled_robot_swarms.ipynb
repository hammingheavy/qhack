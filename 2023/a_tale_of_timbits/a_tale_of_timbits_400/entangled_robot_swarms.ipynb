{
 "cells": [
  {
   "cell_type": "markdown",
   "id": "012e1c06",
   "metadata": {},
   "source": [
    "## Challenge code\n",
    " \n",
    " In the code below, you are given a few functions:\n",
    " \n",
    " - `bell_prearation`: creates the state $\\frac{1}{\\sqrt{2}}(|0000\\rangle + |1111\\rangle).$ This gate will act on the first 3 robots and the hub — `hub`, `robot1`, `robot2`, and `robot3`. **You must complete this function.**\n",
    " - `emergency_gate_U`: the gate, $U$, that somehow manages to save the total state after one of the robots is threatened and its qubit collapses. It will act only on one qubit. **You must complete this function.** \n",
    " - `setting_new_robot`: takes care of defining a new auxiliary robot configuration. It will only act on the `hub` and `auxiliary_robot` qubits. **You must complete this function.**\n",
    " \n",
    " ### Input\n",
    " \n",
    " In this challenge, there is no input. Our grader will simply check that the final state of the `hub`, `robot2`, `robot3`, and `auxiliary_robot` qubits is correct.\n",
    " \n",
    " ### Output\n",
    " \n",
    " This code will output the density matrix (`numpy.tensor`) of the `hub`, `robot2`, `robot3`, and `auxiliary_robot` system. \n",
    " \n",
    " If your solution matches the correct one within the given tolerance specified in `check` (in this case, it's a relative tolerance of `1e-5`), the output will be `\"Correct!\"` Otherwise, you will receive a `\"Wrong answer\"` prompt.\n",
    " \n",
    " Good luck!\n",
    " ### Imports\n",
    " The cell below specifies the libraries you should use in this challenge. Run the cell to import the libraries. ***Do not modify the cell.***"
   ]
  },
  {
   "cell_type": "code",
   "execution_count": null,
   "id": "c9e6073e",
   "metadata": {},
   "outputs": [],
   "source": [
    "import pennylane as qml\n",
    "from pennylane import numpy as np"
   ]
  },
  {
   "cell_type": "markdown",
   "id": "073ffb58",
   "metadata": {},
   "source": [
    "### Code\n",
    " Complete the code below. Note that during QHack, some sections were not editable. We've marked those sections accordingly here, but you can still edit them if you wish."
   ]
  },
  {
   "cell_type": "code",
   "execution_count": null,
   "id": "6996e15d",
   "metadata": {},
   "outputs": [],
   "source": [
    "def bell_preparation(wires):\n",
    "    \"\"\"\n",
    "    Quantum function in charge of generating the bell state of 4 qubits.\n",
    "    You simply add the necessary gates, do not return anything.\n",
    "\n",
    "    Args:\n",
    "        wires (list(str)): list of the 4 wires where the gate will run\n",
    "\n",
    "    \"\"\"\n",
    "\n",
    "def emergency_gate_U(wire):\n",
    "    \"\"\"\n",
    "    Quantum function that will define the emergency protocol in a qubit.\n",
    "    You simply add the necessary gates, do not return anything.\n",
    "\n",
    "    Args:\n",
    "        wire(str): name of the wire where the emergency gate will be apply.\n",
    "\n",
    "    \"\"\"\n",
    "\n",
    "def setting_new_robot(output, wires):\n",
    "    \"\"\"\n",
    "    Quantum function that defines the operation between the hub and the auxiliary robot.\n",
    "\n",
    "    Args:\n",
    "        output (int): 0 or 1, indicates the measurement output of robot1 after collapsing.\n",
    "                    Take a look at qml.cond to see how to condition operators to this value.\n",
    "\n",
    "        wires(list(str)): name of the wires where the gate will be apply.\n",
    "\n",
    "    \"\"\"\n",
    "\n",
    "# Uneditable section #\n",
    "wires = [\"hub\", \"robot1\", \"robot2\", \"robot3\", \"auxiliary_robot\"]\n",
    "dev = qml.device(\"default.qubit\", wires=wires)\n",
    "\n",
    "@qml.qnode(dev)\n",
    "def circuit():\n",
    "    bell_preparation(wires=[\"hub\", \"robot1\", \"robot2\", \"robot3\"])\n",
    "    emergency_gate_U(wire=\"robot1\")\n",
    "    output = qml.measure(wires=\"robot1\")\n",
    "    setting_new_robot(output, wires=[\"hub\", \"auxiliary_robot\"])\n",
    "    return qml.density_matrix(wires=[\"hub\", \"robot2\", \"robot3\", \"auxiliary_robot\"])"
   ]
  },
  {
   "cell_type": "markdown",
   "id": "91446cda",
   "metadata": {},
   "source": [
    "These functions are responsible for testing the solution. You will need to run the cell below. ***Do not modify the cell.***"
   ]
  },
  {
   "cell_type": "code",
   "execution_count": null,
   "id": "e8f84b41",
   "metadata": {},
   "outputs": [],
   "source": [
    "def run(test_case_input: str) -> str:\n",
    "    return None\n",
    "\n",
    "def check(solution_output: str, expected_output: str) -> None:\n",
    "\n",
    "    dev = qml.device(\"default.qubit\", wires = 4)\n",
    "    @qml.qnode(dev)\n",
    "    def circuit2():\n",
    "        bell_preparation(wires = range(4))\n",
    "        return qml.state()\n",
    "\n",
    "    bell = np.zeros(16)\n",
    "    bell[0] = 1 / np.sqrt(2)\n",
    "    bell[-1] = 1 / np.sqrt(2)\n",
    "\n",
    "    assert np.allclose(circuit2(), bell), \"The bell preparation is not correct!\"\n",
    "\n",
    "    dev = qml.device(\"default.qubit\", wires=4)\n",
    "\n",
    "    @qml.qnode(dev)\n",
    "    def circuit3():\n",
    "        bell_preparation(wires=range(4))\n",
    "        return qml.density_matrix(wires = range(4))\n",
    "\n",
    "    assert np.allclose(circuit3(), circuit()), \"The final state is not correct!\""
   ]
  },
  {
   "cell_type": "markdown",
   "id": "2451c500",
   "metadata": {},
   "source": [
    "### Test cases\n",
    " Running the cell below will load the test cases. ***Do not modify the cell***.\n",
    " - input: No input\n",
    " \t+ expected output: No output\n",
    " - input: No input\n",
    " \t+ expected output: No output"
   ]
  },
  {
   "cell_type": "code",
   "execution_count": null,
   "id": "97d8484a",
   "metadata": {},
   "outputs": [],
   "source": [
    "test_cases = [['No input', 'No output'], ['No input', 'No output']]"
   ]
  },
  {
   "cell_type": "markdown",
   "id": "d4dddef5",
   "metadata": {},
   "source": [
    "### Solution testing\n",
    " Once you have run every cell above, including the one with your code, the cell below will test your solution. Run the cell. If you are correct for all of the test cases, it means your solutions is correct. Otherwise, you need to double check your work. ***Do not modify the cell below.***"
   ]
  },
  {
   "cell_type": "code",
   "execution_count": null,
   "id": "24e05a05",
   "metadata": {},
   "outputs": [],
   "source": [
    "for i, (input_, expected_output) in enumerate(test_cases):\n",
    "    print(f\"Running test case {i} with input '{input_}'...\")\n",
    "\n",
    "    try:\n",
    "        output = run(input_)\n",
    "\n",
    "    except Exception as exc:\n",
    "        print(f\"Runtime Error. {exc}\")\n",
    "\n",
    "    else:\n",
    "        if message := check(output, expected_output):\n",
    "            print(f\"Wrong Answer. Have: '{output}'. Want: '{expected_output}'.\")\n",
    "\n",
    "        else:\n",
    "            print(\"Correct!\")"
   ]
  }
 ],
 "metadata": {},
 "nbformat": 4,
 "nbformat_minor": 5
}
