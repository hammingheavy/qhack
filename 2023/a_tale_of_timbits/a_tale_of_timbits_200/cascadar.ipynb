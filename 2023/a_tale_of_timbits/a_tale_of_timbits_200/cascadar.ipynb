{
 "cells": [
  {
   "cell_type": "markdown",
   "id": "73d4d3e2",
   "metadata": {},
   "source": [
    "## Challenge code\n",
    " \n",
    " In the code below, you are given various functions:\n",
    " - `noisy_PauliX`: which applies the Pauli-X gate and then a layer of depolarizing noise with parameter `lmbda`. (The noise is added for you.)\n",
    " - `Toffoli_cascade`: a cascade of noisy Toffoli gates (noise parameter\n",
    "   `lmbda`) which help compute a product, as in the circuit pictured above, with the input qubits on `in_wires` and auxiliary system `aux_wires`. (The noise is added for you.)\n",
    " - `cascadar`: which takes a `guard_state (numpy.tensor)` and returns $|g_c|^2$,\n",
    "   using noisy equipment with parameter `lmbda`. **You must complete this function**.\n",
    " \n",
    " ### Inputs\n",
    " \n",
    " The noisy quantum radar `cascadar` takes as input the guard state\n",
    " `guard_state (numpy.tensor)`, and a noise parameter `lmbda (float)` controlling the depolarizing noise.\n",
    " \n",
    " ### Output\n",
    " \n",
    " Your `cascadar` function should gives the correct probability\n",
    " $|g_c|^2$ for test cases, including the effects of noise.\n",
    " \n",
    " If your solution matches the correct one within the given tolerance\n",
    " specified in `check` (in this case it's a `1e-4` relative error\n",
    " tolerance), the output will be `\"Correct!\"` Otherwise, you will\n",
    " receive a `\"Wrong answer\"` prompt.\n",
    " ### Imports\n",
    " The cell below specifies the libraries you should use in this challenge. Run the cell to import the libraries. ***Do not modify the cell.***"
   ]
  },
  {
   "cell_type": "code",
   "execution_count": null,
   "id": "fe56dcdb",
   "metadata": {},
   "outputs": [],
   "source": [
    "import json\n",
    "import pennylane as qml\n",
    "from pennylane import numpy as np"
   ]
  },
  {
   "cell_type": "markdown",
   "id": "09d6b835",
   "metadata": {},
   "source": [
    "### Code\n",
    " Complete the code below. Note that during QHack, some sections were not editable. We've marked those sections accordingly here, but you can still edit them if you wish."
   ]
  },
  {
   "cell_type": "code",
   "execution_count": null,
   "id": "690a8714",
   "metadata": {},
   "outputs": [],
   "source": [
    "# Uneditable section #\n",
    "def noisy_PauliX(wire, lmbda):\n",
    "    \"\"\"A Pauli-X gate followed by depolarizing noise.\n",
    "\n",
    "    Args:\n",
    "        lmbda (float): The parameter defining the depolarizing channel.\n",
    "        wire (int): The wire the depolarizing channel acts on.\n",
    "    \"\"\"\n",
    "    qml.PauliX(wire)\n",
    "    qml.DepolarizingChannel(lmbda, wires=wire)\n",
    "\n",
    "def Toffoli_cascade(in_wires, aux_wires, lmbda):\n",
    "    \"\"\"A cascade of noisy Toffolis to help compute the product.\n",
    "    \n",
    "    Args:\n",
    "        in_wires (list(int)): The input qubits.\n",
    "        aux_wires (list(int)): The auxiliary qubits.\n",
    "        lmbda (float): The probability of erasing the state of a qubit.\n",
    "    \"\"\"\n",
    "    n = len(in_wires)\n",
    "    qml.Toffoli(wires=[in_wires[0], in_wires[1], aux_wires[0]])\n",
    "    qml.DepolarizingChannel(lmbda, wires=in_wires[0])\n",
    "    qml.DepolarizingChannel(lmbda, wires=in_wires[1])\n",
    "    qml.DepolarizingChannel(lmbda, wires=aux_wires[0])\n",
    "    for i in range(n - 2):\n",
    "        qml.Toffoli(wires=[in_wires[i + 2], aux_wires[i], aux_wires[i + 1]])\n",
    "        qml.DepolarizingChannel(lmbda, wires=in_wires[i + 2])\n",
    "        qml.DepolarizingChannel(lmbda, wires=aux_wires[i])\n",
    "        qml.DepolarizingChannel(lmbda, wires=aux_wires[i + 1])\n",
    "\n",
    "# Build a quantum radar to check how much attention is on Trine's cell\n",
    "def cascadar(guard_state, lmbda):\n",
    "    \"\"\"Return the squared amplitude |g_c|^2 of the guard state, for c = (1, 1, 0, 0, 1).\n",
    "\n",
    "    Args:\n",
    "        guard_state (numpy.tensor): A 2**5 = 32 component vector encoding the guard state.\n",
    "        lmbda (float): The probability of erasing the state of a qubit.\n",
    "\n",
    "    Returns:\n",
    "        (float): The squared amplitude of the guard state on the cell c.\n",
    "    \"\"\"\n",
    "    dev = qml.device(\"default.mixed\", wires = 5 + 4)\n",
    "    \n",
    "    @qml.qnode(dev)\n",
    "    def circuit():\n",
    "        \"\"\"\n",
    "        Circuit that will use the Toffoli_cascade and the noisy_PauliX.\n",
    "        It will return a measurement on the last qubit.\n",
    "        \"\"\"\n",
    "\n",
    "        qml.QubitStateVector(guard_state, range(5))\n",
    "    # End of uneditable section #\n",
    "\n",
    "\n",
    "        # Put your code here #\n",
    "\n",
    "        return\n",
    "\n",
    "    output = circuit()\n",
    "\n",
    "    # if you want to post-process the output, put code here also #\n",
    "\n",
    "    return"
   ]
  },
  {
   "cell_type": "markdown",
   "id": "6984e583",
   "metadata": {},
   "source": [
    "These functions are responsible for testing the solution. You will need to run the cell below. ***Do not modify the cell.***"
   ]
  },
  {
   "cell_type": "code",
   "execution_count": null,
   "id": "457da4db",
   "metadata": {},
   "outputs": [],
   "source": [
    "def run(test_case_input: str) -> str:\n",
    "\n",
    "    guard_state, lmbda = json.loads(test_case_input)\n",
    "    output = cascadar(guard_state, lmbda)\n",
    "\n",
    "    return str(output)\n",
    "\n",
    "def check(solution_output: str, expected_output: str) -> None:\n",
    "\n",
    "    solution_output = json.loads(solution_output)\n",
    "    expected_output = json.loads(expected_output)\n",
    "    assert np.allclose(\n",
    "        solution_output, expected_output, rtol=1e-4\n",
    "    ), \"Your quantum radar isn't quite working properly!\""
   ]
  },
  {
   "cell_type": "markdown",
   "id": "8a4f9277",
   "metadata": {},
   "source": [
    "### Test cases\n",
    " Running the cell below will load the test cases. ***Do not modify the cell***.\n",
    " - input: [[0.0, 0.0, 0.0, 0.0, 0.0, 0.0, 0.0, 0.0, 0.0, 0.0, 0.0, 0.0, 0.0, 0.0, 0.0, 0.0, 0.0, 0.0, 0.0, 0.0, 0.0, 0.0, 0.0, 0.0, 0.0, 1.0, 0.0, 0.0, 0.0, 0.0, 0.0, 0.0], 0.0]\n",
    " \t+ expected output: 1\n",
    " - input: [[0.0, 0.0, 0.0, 0.0, 0.0, 0.0, 0.0, 0.0, 0.0, 0.0, 0.0, 0.0, 0.0, 0.0, 0.0, 0.0, 0.0, 0.0, 0.0, 0.0, 0.0, 0.0, 0.0, 0.0, 0.0, 1.0, 0.0, 0.0, 0.0, 0.0, 0.0, 0.0], 0.7]\n",
    " \t+ expected output: 0.4989288998628252\n",
    " - input: [[0.0, 0.0, 0.0, 0.0, 0.0, 0.0, 0.0, 0.0, 0.0, 0.7071067811865475, 0.0, 0.0, 0.0, 0.0, 0.0, 0.0, 0.0, 0.0, 0.0, 0.0, 0.0, 0.0, 0.0, 0.0, 0.0, -0.7071067811865475, 0.0, 0.0, 0.0, 0.0, 0.0, 0.0], 0.0]\n",
    " \t+ expected output: 0.49999999999998007"
   ]
  },
  {
   "cell_type": "code",
   "execution_count": null,
   "id": "fa3f1783",
   "metadata": {},
   "outputs": [],
   "source": [
    "test_cases = [['[[0.0, 0.0, 0.0, 0.0, 0.0, 0.0, 0.0, 0.0, 0.0, 0.0, 0.0, 0.0, 0.0, 0.0, 0.0, 0.0, 0.0, 0.0, 0.0, 0.0, 0.0, 0.0, 0.0, 0.0, 0.0, 1.0, 0.0, 0.0, 0.0, 0.0, 0.0, 0.0], 0.0]', '1'], ['[[0.0, 0.0, 0.0, 0.0, 0.0, 0.0, 0.0, 0.0, 0.0, 0.0, 0.0, 0.0, 0.0, 0.0, 0.0, 0.0, 0.0, 0.0, 0.0, 0.0, 0.0, 0.0, 0.0, 0.0, 0.0, 1.0, 0.0, 0.0, 0.0, 0.0, 0.0, 0.0], 0.7]', '0.4989288998628252'], ['[[0.0, 0.0, 0.0, 0.0, 0.0, 0.0, 0.0, 0.0, 0.0, 0.7071067811865475, 0.0, 0.0, 0.0, 0.0, 0.0, 0.0, 0.0, 0.0, 0.0, 0.0, 0.0, 0.0, 0.0, 0.0, 0.0, -0.7071067811865475, 0.0, 0.0, 0.0, 0.0, 0.0, 0.0], 0.0]', '0.49999999999998007']]"
   ]
  },
  {
   "cell_type": "markdown",
   "id": "7fb2112d",
   "metadata": {},
   "source": [
    "### Solution testing\n",
    " Once you have run every cell above, including the one with your code, the cell below will test your solution. Run the cell. If you are correct for all of the test cases, it means your solutions is correct. Otherwise, you need to double check your work. ***Do not modify the cell below.***"
   ]
  },
  {
   "cell_type": "code",
   "execution_count": null,
   "id": "5a1bd126",
   "metadata": {},
   "outputs": [],
   "source": [
    "for i, (input_, expected_output) in enumerate(test_cases):\n",
    "    print(f\"Running test case {i} with input '{input_}'...\")\n",
    "\n",
    "    try:\n",
    "        output = run(input_)\n",
    "\n",
    "    except Exception as exc:\n",
    "        print(f\"Runtime Error. {exc}\")\n",
    "\n",
    "    else:\n",
    "        if message := check(output, expected_output):\n",
    "            print(f\"Wrong Answer. Have: '{output}'. Want: '{expected_output}'.\")\n",
    "\n",
    "        else:\n",
    "            print(\"Correct!\")"
   ]
  }
 ],
 "metadata": {},
 "nbformat": 4,
 "nbformat_minor": 5
}
