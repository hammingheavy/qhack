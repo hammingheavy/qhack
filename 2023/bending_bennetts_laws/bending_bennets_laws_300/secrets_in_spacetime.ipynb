{
 "cells": [
  {
   "cell_type": "markdown",
   "id": "c494ea60",
   "metadata": {},
   "source": [
    "## Challenge code\n",
    " \n",
    " In the code below, you are given a function called `is_unsafe`. **You must complete this function** by coming up with a way — you are given total freedom, from making a variational circuit to finding an analytical solution — to determine if the given values of $\\alpha$ and $\\beta$ values are $\\epsilon$-unsafe.\n",
    " \n",
    " ### Inputs\n",
    " \n",
    " As input to this problem, you are given a `list(float)` containing the values of $\\alpha$, $\\beta$, and $\\epsilon$, in that order.\n",
    " \n",
    " ### Output\n",
    " \n",
    " This code must output a boolean — `True` or `False` — corresponding to whether the values of $\\alpha$ and $\\beta$ are $\\epsilon$-unsafe.\n",
    " For example, if you determine that the given values of $\\alpha$ and $\\beta$ *aren't* $\\epsilon$-unsafe, your code must output `False`. \n",
    " \n",
    " If your solution is correct, the output will be `\"Correct!\"` Otherwise, you will receive a `\"Wrong answer\"` prompt.\n",
    " \n",
    " Good luck!\n",
    " ### Imports\n",
    " The cell below specifies the libraries you should use in this challenge. Run the cell to import the libraries. ***Do not modify the cell.***"
   ]
  },
  {
   "cell_type": "code",
   "execution_count": null,
   "id": "45df8aa0",
   "metadata": {},
   "outputs": [],
   "source": [
    "import json\n",
    "import pennylane as qml\n",
    "from pennylane import numpy as np"
   ]
  },
  {
   "cell_type": "markdown",
   "id": "8af25323",
   "metadata": {},
   "source": [
    "### Code\n",
    " Complete the code below. Note that during QHack, some sections were not editable. We've marked those sections accordingly here, but you can still edit them if you wish."
   ]
  },
  {
   "cell_type": "code",
   "execution_count": null,
   "id": "01b81b8c",
   "metadata": {},
   "outputs": [],
   "source": [
    "# Uneditable section #\n",
    "def U_psi(theta):\n",
    "    \"\"\"\n",
    "    Quantum function that generates |psi>, Zenda's state wants to send to Reece.\n",
    "\n",
    "    Args:\n",
    "        theta (float): Parameter that generates the state.\n",
    "\n",
    "    \"\"\"\n",
    "    qml.Hadamard(wires = 0)\n",
    "    qml.CRX(theta, wires = [0,1])\n",
    "    qml.CRZ(theta, wires = [0,1])\n",
    "\n",
    "def is_unsafe(alpha, beta, epsilon):\n",
    "    \"\"\"\n",
    "    Boolean function that we will use to know if a set of parameters is unsafe.\n",
    "\n",
    "    Args:\n",
    "        alpha (float): parameter used to encode the state.\n",
    "        beta (float): parameter used to encode the state.\n",
    "        epsilon (float): unsafe-tolerance.\n",
    "\n",
    "    Returns:\n",
    "        (bool): 'True' if alpha and beta are epsilon-unsafe coefficients. 'False' in the other case.\n",
    "\n",
    "    \"\"\"\n",
    "    # End of uneditable section #\n",
    "\n",
    "    # Put your code here #"
   ]
  },
  {
   "cell_type": "markdown",
   "id": "f47d0e2a",
   "metadata": {},
   "source": [
    "These functions are responsible for testing the solution. You will need to run the cell below. ***Do not modify the cell.***"
   ]
  },
  {
   "cell_type": "code",
   "execution_count": null,
   "id": "203710cb",
   "metadata": {},
   "outputs": [],
   "source": [
    "def run(test_case_input: str) -> str:\n",
    "    ins = json.loads(test_case_input)\n",
    "    output = is_unsafe(*ins)\n",
    "    return str(output)\n",
    "\n",
    "def check(solution_output: str, expected_output: str) -> None:\n",
    "    \n",
    "    def bool_to_int(string):\n",
    "        if string == \"True\":\n",
    "            return 1\n",
    "        return 0\n",
    "\n",
    "    solution_output = bool_to_int(solution_output)\n",
    "    expected_output = bool_to_int(expected_output)\n",
    "    assert solution_output == expected_output, \"The solution is not correct.\""
   ]
  },
  {
   "cell_type": "markdown",
   "id": "0bb8c03b",
   "metadata": {},
   "source": [
    "### Test cases\n",
    " Running the cell below will load the test cases. ***Do not modify the cell***.\n",
    " - input: [0.1, 0.2, 0.3]\n",
    " \t+ expected output: True\n",
    " - input: [1.1, 1.2, 0.3]\n",
    " \t+ expected output: False\n",
    " - input: [1.1, 1.2, 0.4]\n",
    " \t+ expected output: True\n",
    " - input: [0.5, 1.9, 0.7]\n",
    " \t+ expected output: True\n",
    " - input: [0.5, 1.9, 0.3]\n",
    " \t+ expected output: False\n",
    " - input: [0.5, 1.1, 0.5]\n",
    " \t+ expected output: True\n",
    " - input: [0.1, 1.1, 0.2]\n",
    " \t+ expected output: False\n",
    " - input: [0.2, 1.0, 0.3]\n",
    " \t+ expected output: True"
   ]
  },
  {
   "cell_type": "code",
   "execution_count": null,
   "id": "7b722359",
   "metadata": {},
   "outputs": [],
   "source": [
    "test_cases = [['[0.1, 0.2, 0.3]', 'True'], ['[1.1, 1.2, 0.3]', 'False'], ['[1.1, 1.2, 0.4]', 'True'], ['[0.5, 1.9, 0.7]', 'True'], ['[0.5, 1.9, 0.3]', 'False'], ['[0.5, 1.1, 0.5]', 'True'], ['[0.1, 1.1, 0.2]', 'False'], ['[0.2, 1.0, 0.3]', 'True']]"
   ]
  },
  {
   "cell_type": "markdown",
   "id": "ac602cc8",
   "metadata": {},
   "source": [
    "### Solution testing\n",
    " Once you have run every cell above, including the one with your code, the cell below will test your solution. Run the cell. If you are correct for all of the test cases, it means your solutions is correct. Otherwise, you need to double check your work. ***Do not modify the cell below.***"
   ]
  },
  {
   "cell_type": "code",
   "execution_count": null,
   "id": "ba1abfdb",
   "metadata": {},
   "outputs": [],
   "source": [
    "for i, (input_, expected_output) in enumerate(test_cases):\n",
    "    print(f\"Running test case {i} with input '{input_}'...\")\n",
    "\n",
    "    try:\n",
    "        output = run(input_)\n",
    "\n",
    "    except Exception as exc:\n",
    "        print(f\"Runtime Error. {exc}\")\n",
    "\n",
    "    else:\n",
    "        if message := check(output, expected_output):\n",
    "            print(f\"Wrong Answer. Have: '{output}'. Want: '{expected_output}'.\")\n",
    "\n",
    "        else:\n",
    "            print(\"Correct!\")"
   ]
  }
 ],
 "metadata": {},
 "nbformat": 4,
 "nbformat_minor": 5
}
