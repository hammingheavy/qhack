{
 "cells": [
  {
   "cell_type": "code",
   "execution_count": 8,
   "metadata": {},
   "outputs": [],
   "source": [
    "import json\n",
    "import pennylane as qml\n",
    "from pennylane import numpy as np"
   ]
  },
  {
   "cell_type": "code",
   "execution_count": 9,
   "metadata": {},
   "outputs": [],
   "source": [
    "# Uneditable section #\n",
    "def U_psi(theta):\n",
    "    \"\"\"\n",
    "    Quantum function that generates |psi>, Zenda's state wants to send to Reece.\n",
    "\n",
    "    Args:\n",
    "        theta (float): Parameter that generates the state.\n",
    "\n",
    "    \"\"\"\n",
    "    qml.Hadamard(wires = 0)\n",
    "    qml.CRX(theta, wires = [0,1])\n",
    "    qml.CRZ(theta, wires = [0,1])\n",
    "\n",
    "def is_unsafe(alpha, beta, epsilon):\n",
    "    \"\"\"\n",
    "    Boolean function that we will use to know if a set of parameters is unsafe.\n",
    "\n",
    "    Args:\n",
    "        alpha (float): parameter used to encode the state.\n",
    "        beta (float): parameter used to encode the state.\n",
    "        epsilon (float): unsafe-tolerance.\n",
    "\n",
    "    Returns:\n",
    "        (bool): 'True' if alpha and beta are epsilon-unsafe coefficients. 'False' in the other case.\n",
    "\n",
    "    \"\"\"\n",
    "    # End of uneditable section #\n",
    "\n",
    "    # Put your code here #\n",
    "\n",
    "    dev = qml.device(\"default.qubit\", wires=2)\n",
    "\n",
    "    encoding_operator = qml.RX(beta, wires=0) @ qml.RX(beta, wires=1) @ qml.RZ(alpha, wires=0) @ qml.RZ(alpha, wires=1)\n",
    "\n",
    "    @qml.qnode(dev)\n",
    "    def expectation(theta, alpha, beta):\n",
    "        U_psi(theta)\n",
    "        return qml.expval(encoding_operator)\n",
    "    \n",
    "    thetas = np.linspace(-np.pi, np.pi, 100)\n",
    "    \n",
    "    for theta in thetas:\n",
    "        if abs(expectation(theta, alpha, beta)) >= 1 - epsilon:\n",
    "            return True\n",
    "        else:\n",
    "            return False"
   ]
  },
  {
   "cell_type": "code",
   "execution_count": 10,
   "metadata": {},
   "outputs": [],
   "source": [
    "def run(test_case_input: str) -> str:\n",
    "    ins = json.loads(test_case_input)\n",
    "    output = is_unsafe(*ins)\n",
    "    return str(output)\n",
    "\n",
    "def check(solution_output: str, expected_output: str) -> None:\n",
    "    \n",
    "    def bool_to_int(string):\n",
    "        if string == \"True\":\n",
    "            return 1\n",
    "        return 0\n",
    "\n",
    "    solution_output = bool_to_int(solution_output)\n",
    "    expected_output = bool_to_int(expected_output)\n",
    "    assert solution_output == expected_output, \"The solution is not correct.\""
   ]
  },
  {
   "cell_type": "code",
   "execution_count": 11,
   "metadata": {},
   "outputs": [],
   "source": [
    "test_cases = [['[0.1, 0.2, 0.3]', 'True'], ['[1.1, 1.2, 0.3]', 'False'], ['[1.1, 1.2, 0.4]', 'True'], ['[0.5, 1.9, 0.7]', 'True'], ['[0.5, 1.9, 0.3]', 'False'], ['[0.5, 1.1, 0.5]', 'True'], ['[0.1, 1.1, 0.2]', 'False'], ['[0.2, 1.0, 0.3]', 'True']]"
   ]
  },
  {
   "cell_type": "code",
   "execution_count": 12,
   "metadata": {},
   "outputs": [
    {
     "name": "stdout",
     "output_type": "stream",
     "text": [
      "Running test case 0 with input '[0.1, 0.2, 0.3]'...\n",
      "Correct!\n",
      "Running test case 1 with input '[1.1, 1.2, 0.3]'...\n",
      "Correct!\n",
      "Running test case 2 with input '[1.1, 1.2, 0.4]'...\n"
     ]
    },
    {
     "name": "stderr",
     "output_type": "stream",
     "text": [
      "c:\\Users\\qwert\\AppData\\Local\\Programs\\Python\\Python312\\Lib\\site-packages\\pennylane\\measurements\\expval.py:62: UserWarning: Prod might not be hermitian.\n",
      "  warnings.warn(f\"{op.name} might not be hermitian.\")\n",
      "c:\\Users\\qwert\\AppData\\Local\\Programs\\Python\\Python312\\Lib\\site-packages\\autoray\\autoray.py:80: ComplexWarning: Casting complex values to real discards the imaginary part\n",
      "  return get_lib_fn(backend, fn)(*args, **kwargs)\n"
     ]
    },
    {
     "ename": "AssertionError",
     "evalue": "The solution is not correct.",
     "output_type": "error",
     "traceback": [
      "\u001b[1;31m---------------------------------------------------------------------------\u001b[0m",
      "\u001b[1;31mAssertionError\u001b[0m                            Traceback (most recent call last)",
      "Cell \u001b[1;32mIn[12], line 11\u001b[0m\n\u001b[0;32m      8\u001b[0m     \u001b[38;5;28mprint\u001b[39m(\u001b[38;5;124mf\u001b[39m\u001b[38;5;124m\"\u001b[39m\u001b[38;5;124mRuntime Error. \u001b[39m\u001b[38;5;132;01m{\u001b[39;00mexc\u001b[38;5;132;01m}\u001b[39;00m\u001b[38;5;124m\"\u001b[39m)\n\u001b[0;32m     10\u001b[0m \u001b[38;5;28;01melse\u001b[39;00m:\n\u001b[1;32m---> 11\u001b[0m     \u001b[38;5;28;01mif\u001b[39;00m message \u001b[38;5;241m:=\u001b[39m \u001b[43mcheck\u001b[49m\u001b[43m(\u001b[49m\u001b[43moutput\u001b[49m\u001b[43m,\u001b[49m\u001b[43m \u001b[49m\u001b[43mexpected_output\u001b[49m\u001b[43m)\u001b[49m:\n\u001b[0;32m     12\u001b[0m         \u001b[38;5;28mprint\u001b[39m(\u001b[38;5;124mf\u001b[39m\u001b[38;5;124m\"\u001b[39m\u001b[38;5;124mWrong Answer. Have: \u001b[39m\u001b[38;5;124m'\u001b[39m\u001b[38;5;132;01m{\u001b[39;00moutput\u001b[38;5;132;01m}\u001b[39;00m\u001b[38;5;124m'\u001b[39m\u001b[38;5;124m. Want: \u001b[39m\u001b[38;5;124m'\u001b[39m\u001b[38;5;132;01m{\u001b[39;00mexpected_output\u001b[38;5;132;01m}\u001b[39;00m\u001b[38;5;124m'\u001b[39m\u001b[38;5;124m.\u001b[39m\u001b[38;5;124m\"\u001b[39m)\n\u001b[0;32m     14\u001b[0m     \u001b[38;5;28;01melse\u001b[39;00m:\n",
      "Cell \u001b[1;32mIn[10], line 15\u001b[0m, in \u001b[0;36mcheck\u001b[1;34m(solution_output, expected_output)\u001b[0m\n\u001b[0;32m     13\u001b[0m solution_output \u001b[38;5;241m=\u001b[39m bool_to_int(solution_output)\n\u001b[0;32m     14\u001b[0m expected_output \u001b[38;5;241m=\u001b[39m bool_to_int(expected_output)\n\u001b[1;32m---> 15\u001b[0m \u001b[38;5;28;01massert\u001b[39;00m solution_output \u001b[38;5;241m==\u001b[39m expected_output, \u001b[38;5;124m\"\u001b[39m\u001b[38;5;124mThe solution is not correct.\u001b[39m\u001b[38;5;124m\"\u001b[39m\n",
      "\u001b[1;31mAssertionError\u001b[0m: The solution is not correct."
     ]
    }
   ],
   "source": [
    "for i, (input_, expected_output) in enumerate(test_cases):\n",
    "    print(f\"Running test case {i} with input '{input_}'...\")\n",
    "\n",
    "    try:\n",
    "        output = run(input_)\n",
    "\n",
    "    except Exception as exc:\n",
    "        print(f\"Runtime Error. {exc}\")\n",
    "\n",
    "    else:\n",
    "        if message := check(output, expected_output):\n",
    "            print(f\"Wrong Answer. Have: '{output}'. Want: '{expected_output}'.\")\n",
    "\n",
    "        else:\n",
    "            print(\"Correct!\")"
   ]
  }
 ],
 "metadata": {
  "kernelspec": {
   "display_name": "Python 3",
   "language": "python",
   "name": "python3"
  },
  "language_info": {
   "codemirror_mode": {
    "name": "ipython",
    "version": 3
   },
   "file_extension": ".py",
   "mimetype": "text/x-python",
   "name": "python",
   "nbconvert_exporter": "python",
   "pygments_lexer": "ipython3",
   "version": "3.12.0"
  }
 },
 "nbformat": 4,
 "nbformat_minor": 2
}
