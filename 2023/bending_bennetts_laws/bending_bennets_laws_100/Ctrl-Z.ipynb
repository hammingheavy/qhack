{
 "cells": [
  {
   "cell_type": "markdown",
   "id": "78662d23",
   "metadata": {},
   "source": [
    "## Challenge code\n",
    " \n",
    " In the code below, you are given a function called `AND(j, k)`. **You\n",
    " must complete this circuit** and provide gates which implement a\n",
    " classical AND gate.\n",
    " More precisely, if the second and third qubits are in states $\\vert\n",
    " j\\rangle$ and $\\vert k\\rangle$, the circuit should place the first\n",
    " qubit in state $\\vert\\text{AND}(j, k)\\rangle.$\n",
    " \n",
    " ### Inputs\n",
    " \n",
    " As input to this problem, you are given two bits `j (int)` and `k\n",
    " (int)`, encoded onto the second and third qubits for you.\n",
    " \n",
    " ### Output\n",
    " \n",
    " Your circuit must place the first qubit in basis state `AND(j,\n",
    " k)`. This will be checked using `qml.probs(wires = 0)`, which gives\n",
    " `[1, 0]` for $\\vert 0\\rangle$ and `[0, 1]` for $\\vert 1\\rangle.$\n",
    " \n",
    " If your solution matches the correct one within the given tolerance\n",
    " specified in `check` (in this case it's a `1e-4` relative error\n",
    " tolerance), the output will be `\"Correct!\"` Otherwise, you will\n",
    " receive a `\"Wrong answer\"` prompt.\n",
    " ### Imports\n",
    " The cell below specifies the libraries you should use in this challenge. Run the cell to import the libraries. ***Do not modify the cell.***"
   ]
  },
  {
   "cell_type": "code",
   "execution_count": null,
   "id": "e53622cc",
   "metadata": {},
   "outputs": [],
   "source": [
    "import json\n",
    "import pennylane as qml\n",
    "from pennylane import numpy as np"
   ]
  },
  {
   "cell_type": "markdown",
   "id": "8ebcc779",
   "metadata": {},
   "source": [
    "### Code\n",
    " Complete the code below. Note that during QHack, some sections were not editable. We've marked those sections accordingly here, but you can still edit them if you wish."
   ]
  },
  {
   "cell_type": "code",
   "execution_count": null,
   "id": "b308433c",
   "metadata": {},
   "outputs": [],
   "source": [
    "# Uneditable section #\n",
    "\n",
    "dev = qml.device(\"default.qubit\", wires=3)\n",
    "\n",
    "@qml.qnode(dev)\n",
    "def AND(j, k):\n",
    "    \"\"\"Implements the AND gate using quantum gates and computes j AND k.\n",
    "\n",
    "    Args:\n",
    "        j (int): A classical bit, either 0 or 1. \n",
    "        k (int): A classical bit, either 0 or 1. \n",
    "\n",
    "    Returns:\n",
    "        float: The probabilities of measurement on wire 0.\n",
    "    \"\"\"\n",
    "\n",
    "    if j == 1:\n",
    "        qml.PauliX(wires=1)\n",
    "    if k == 1:\n",
    "        qml.PauliX(wires=2)\n",
    "\n",
    "    # End of uneditable section #\n",
    "\n",
    "        \n",
    "    # Put your code here #\n",
    "\n",
    "\n",
    "# Uneditable section #\n",
    "\n",
    "    qml.ctrl(qml.PauliZ, control =[0, 1])(wires = [2])\n",
    "        \n",
    "    # End of uneditable section #\n",
    "\n",
    "        \n",
    "    # Your code here #\n",
    "\n",
    "    return qml.probs(wires=0)"
   ]
  },
  {
   "cell_type": "markdown",
   "id": "3c4834b6",
   "metadata": {},
   "source": [
    "These functions are responsible for testing the solution. You will need to run the cell below. ***Do not modify the cell.***"
   ]
  },
  {
   "cell_type": "code",
   "execution_count": null,
   "id": "9c72c6cd",
   "metadata": {},
   "outputs": [],
   "source": [
    "def run(test_case_input: str) -> str:\n",
    "    j, k = json.loads(test_case_input)\n",
    "    output = AND(j, k).tolist()\n",
    "\n",
    "    return str(output)\n",
    "\n",
    "def check(solution_output: str, expected_output: str) -> None:\n",
    "    solution_output = json.loads(solution_output)\n",
    "    expected_output = json.loads(expected_output)\n",
    "    assert np.allclose(solution_output, expected_output, rtol=1e-4), \"Your classical operation isn't behaving correctly!\""
   ]
  },
  {
   "cell_type": "markdown",
   "id": "bbbb9b5d",
   "metadata": {},
   "source": [
    "### Test cases\n",
    " Running the cell below will load the test cases. ***Do not modify the cell***.\n",
    " - input: [0, 0]\n",
    " \t+ expected output: [1, 0]\n",
    " - input: [1, 1]\n",
    " \t+ expected output: [0, 1]\n",
    " - input: [0, 1]\n",
    " \t+ expected output: [1, 0]\n",
    " - input: [1, 0]\n",
    " \t+ expected output: [1, 0]"
   ]
  },
  {
   "cell_type": "code",
   "execution_count": null,
   "id": "d2232fdd",
   "metadata": {},
   "outputs": [],
   "source": [
    "test_cases = [['[0, 0]', '[1, 0]'], ['[1, 1]', '[0, 1]'], ['[0, 1]', '[1, 0]'], ['[1, 0]', '[1, 0]']]"
   ]
  },
  {
   "cell_type": "markdown",
   "id": "9e7b8fd3",
   "metadata": {},
   "source": [
    "### Solution testing\n",
    " Once you have run every cell above, including the one with your code, the cell below will test your solution. Run the cell. If you are correct for all of the test cases, it means your solutions is correct. Otherwise, you need to double check your work. ***Do not modify the cell below.***"
   ]
  },
  {
   "cell_type": "code",
   "execution_count": null,
   "id": "ed2e5d33",
   "metadata": {},
   "outputs": [],
   "source": [
    "for i, (input_, expected_output) in enumerate(test_cases):\n",
    "    print(f\"Running test case {i} with input '{input_}'...\")\n",
    "\n",
    "    try:\n",
    "        output = run(input_)\n",
    "\n",
    "    except Exception as exc:\n",
    "        print(f\"Runtime Error. {exc}\")\n",
    "\n",
    "    else:\n",
    "        if message := check(output, expected_output):\n",
    "            print(f\"Wrong Answer. Have: '{output}'. Want: '{expected_output}'.\")\n",
    "\n",
    "        else:\n",
    "            print(\"Correct!\")"
   ]
  }
 ],
 "metadata": {},
 "nbformat": 4,
 "nbformat_minor": 5
}
