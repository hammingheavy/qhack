{
 "cells": [
  {
   "cell_type": "code",
   "execution_count": 3,
   "metadata": {},
   "outputs": [],
   "source": [
    "import json\n",
    "import pennylane as qml\n",
    "from pennylane import numpy as np"
   ]
  },
  {
   "cell_type": "code",
   "execution_count": 8,
   "metadata": {},
   "outputs": [],
   "source": [
    "# Uneditable section #\n",
    "n_qubits = 9\n",
    "dev = qml.device(\"default.qubit\", wires=n_qubits)\n",
    "error_dict = {0: 'PauliX', 1: 'PauliY', 2: 'PauliZ'}\n",
    "\n",
    "def error(error_key, qubit):\n",
    "    \"\"\"Defines the error that is induced in the circuit.\n",
    "\n",
    "    Args:\n",
    "        error_key (int): An integer associated to the type of error (Pauli X, Y, or Z)\n",
    "        qubit (int): The qubit that the error occurs on.\n",
    "    \"\"\"\n",
    "    getattr(qml, error_dict[error_key])(qubit)\n",
    "\n",
    "@qml.qnode(dev)\n",
    "def shor(state, error_key, qubit):\n",
    "    \"\"\"A circuit defining Shor's code for error correction.\n",
    "\n",
    "    Args:\n",
    "        state (list(float)): The quantum state of the first qubit in the circuit.\n",
    "        error_key (int): An integer associated to the type of error (Pauli X, Y, or Z)\n",
    "        qubit (int): The qubit that the error occurs on.\n",
    "\n",
    "    Returns:\n",
    "        (list(float)): The expectation value of the Pauli Z operator on every qubit.\n",
    "    \"\"\"\n",
    "    qml.QubitStateVector(np.array(state), wires=0)\n",
    "\n",
    "    # End of uneditable section #\n",
    "\n",
    "    # Put your code here #\n",
    "    qml.CNOT(wires=[0, 3])\n",
    "    qml.CNOT(wires=[0, 6])\n",
    "    qml.broadcast(qml.Hadamard, wires=[0, 3, 6], pattern=\"single\")\n",
    "    qml.broadcast(qml.CNOT, wires=[0, 1, 3, 4, 6, 7], pattern=\"double\")\n",
    "    qml.broadcast(qml.CNOT, wires=[0, 2, 3, 5, 6, 8], pattern=\"double\")\n",
    "    error(error_key, qubit)\n",
    "    qml.broadcast(qml.CNOT, wires=[0, 1, 3, 4, 6, 7], pattern=\"double\")\n",
    "    qml.broadcast(qml.CNOT, wires=[0, 2, 3, 5, 6, 8], pattern=\"double\")\n",
    "    qml.Toffoli(wires=[1, 2, 0])\n",
    "    qml.Toffoli(wires=[4, 5, 3])\n",
    "    qml.Toffoli(wires=[7, 8, 6])\n",
    "    qml.broadcast(qml.Hadamard, wires=[0, 3, 6], pattern=\"single\")\n",
    "    qml.CNOT(wires=[0, 3])\n",
    "    qml.CNOT(wires=[0, 6])\n",
    "    qml.Toffoli(wires=[3, 6, 0])\n",
    "    return np.array([qml.expval(qml.PauliZ(i)) for i in range(n_qubits)])\n"
   ]
  },
  {
   "cell_type": "code",
   "execution_count": 9,
   "metadata": {},
   "outputs": [],
   "source": [
    "def run(test_case_input: str) -> str:\n",
    "    state, error_key, qubit = json.loads(test_case_input)\n",
    "    output = shor(state, error_key, qubit).tolist()\n",
    "\n",
    "    return str(output)\n",
    "\n",
    "def check(solution_output: str, expected_output: str) -> None:\n",
    "    solution_output = json.loads(solution_output)\n",
    "    expected_output = json.loads(expected_output)\n",
    "\n",
    "    assert np.allclose(solution_output, expected_output, rtol=1e-4)"
   ]
  },
  {
   "cell_type": "code",
   "execution_count": 10,
   "metadata": {},
   "outputs": [],
   "source": [
    "test_cases = [['[[0, 1], 0, 3]', '[-1.0,  1.0,  1.0,  1.0, -1.0, -1.0,  1.0,  1.0,  1.0]'], ['[[0.5, 0.8660254038], 2, 1]', '[-0.5, 1.0, 1.0, -1.0, 1.0, 1.0, -1.0, 1.0, 1.0]']]"
   ]
  },
  {
   "cell_type": "code",
   "execution_count": 11,
   "metadata": {},
   "outputs": [
    {
     "name": "stdout",
     "output_type": "stream",
     "text": [
      "Running test case 0 with input '[[0, 1], 0, 3]'...\n",
      "Correct!\n",
      "Running test case 1 with input '[[0.5, 0.8660254038], 2, 1]'...\n",
      "Correct!\n"
     ]
    }
   ],
   "source": [
    "for i, (input_, expected_output) in enumerate(test_cases):\n",
    "    print(f\"Running test case {i} with input '{input_}'...\")\n",
    "\n",
    "    try:\n",
    "        output = run(input_)\n",
    "\n",
    "    except Exception as exc:\n",
    "        print(f\"Runtime Error. {exc}\")\n",
    "\n",
    "    else:\n",
    "        if message := check(output, expected_output):\n",
    "            print(f\"Wrong Answer. Have: '{output}'. Want: '{expected_output}'.\")\n",
    "\n",
    "        else:\n",
    "            print(\"Correct!\")"
   ]
  }
 ],
 "metadata": {
  "kernelspec": {
   "display_name": "Python 3",
   "language": "python",
   "name": "python3"
  },
  "language_info": {
   "codemirror_mode": {
    "name": "ipython",
    "version": 3
   },
   "file_extension": ".py",
   "mimetype": "text/x-python",
   "name": "python",
   "nbconvert_exporter": "python",
   "pygments_lexer": "ipython3",
   "version": "3.12.0"
  }
 },
 "nbformat": 4,
 "nbformat_minor": 2
}
