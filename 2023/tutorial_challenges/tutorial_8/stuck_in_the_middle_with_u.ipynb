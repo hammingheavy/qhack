{
 "cells": [
  {
   "cell_type": "markdown",
   "id": "f729dcfc",
   "metadata": {},
   "source": [
    "## Challenge code\n",
    " \n",
    " In the code below, you are given a function called `circuit`. **You must complete \n",
    " this function** by constructing the following four-qubit circuit:\n",
    " \n",
    " <p align=\"center\">\n",
    " <img src=\"./images/daily8.png\" width=\"650\"/>\n",
    " </p>\n",
    " \n",
    " The circuit has a Hadamard gate on every qubit, an $R_x$ gate, a couple of \n",
    " CNOTs, and then the mid-circuit measurements. Note here that the measurements happen \n",
    " on the first and third qubits, and that the [`qml.U3`](https://docs.pennylane.ai/en/stable/code/api/pennylane.U3.html) gate is only applied to the \n",
    " fourth qubit if the following condition is met upon measuring the first and third \n",
    " wires: $m_0 + m_2 \\geq 1$ (i.e. at least one of them is $1$). The last operator, `qml.PauliZ` on the fourth qubit, is \n",
    " applied regardless.\n",
    " \n",
    " The [`qml.measure`](https://docs.pennylane.ai/en/stable/code/api/pennylane.measure.html) \n",
    " function should be helpful to you!\n",
    " \n",
    " ### Input \n",
    " \n",
    " As input to this problem, you are given:\n",
    " \n",
    " - `angles` (`list(float)`): a list of angles containing $\\theta_0$, $\\theta_1$, $\\theta_2$, and $\\theta_3$ in that order. Use this to create the circuit!\n",
    " \n",
    " ### Output\n",
    " \n",
    " This code must output a `numpy.tensor` containing  the probabilities associated to a computational basis measurement **on the fourth qubit.**\n",
    " \n",
    " If your solution matches the correct one within the given tolerance specified in `check` (in this case it's a `1e-4` relative error tolerance), the output will be `\"Correct!\"` Otherwise, you will receive a `\"Wrong answer\"` prompt.\n",
    " \n",
    " Good luck!\n",
    " ### Imports\n",
    " The cell below specifies the libraries you should use in this challenge. Run the cell to import the libraries. ***Do not modify the cell.***"
   ]
  },
  {
   "cell_type": "code",
   "execution_count": null,
   "id": "00c08bf9",
   "metadata": {},
   "outputs": [],
   "source": [
    "import json\n",
    "import pennylane as qml\n",
    "from pennylane import numpy as np"
   ]
  },
  {
   "cell_type": "markdown",
   "id": "8ea1aecb",
   "metadata": {},
   "source": [
    "### Code\n",
    " Complete the code below. Note that during QHack, some sections were not editable. We've marked those sections accordingly here, but you can still edit them if you wish."
   ]
  },
  {
   "cell_type": "code",
   "execution_count": null,
   "id": "eff42708",
   "metadata": {},
   "outputs": [],
   "source": [
    "# Uneditable section #\n",
    "n_qubits = 4\n",
    "dev = qml.device(\"default.qubit\", wires=n_qubits)\n",
    "\n",
    "@qml.qnode(dev)\n",
    "def circuit(angles):\n",
    "    \"\"\"A quantum circuit made from the quantum function U.\n",
    "\n",
    "    Args:\n",
    "        angles (list(float)): A list of angles containing theta_0, theta_1, theta_2, and theta_3 in that order. \n",
    "    Returns:\n",
    "        (numpy.tensor): The probability of the fourth qubit.\n",
    "    \"\"\"\n",
    "    # End of uneditable section #\n",
    "\n",
    "    # Put your code here #\n",
    "    \n",
    "    # Uneditable section #\n",
    "    return qml.probs(wires=3)"
   ]
  },
  {
   "cell_type": "markdown",
   "id": "60a10739",
   "metadata": {},
   "source": [
    "These functions are responsible for testing the solution. You will need to run the cell below. ***Do not modify the cell.***"
   ]
  },
  {
   "cell_type": "code",
   "execution_count": null,
   "id": "1f80dd77",
   "metadata": {},
   "outputs": [],
   "source": [
    "def run(test_case_input: str) -> str:\n",
    "    angles = json.loads(test_case_input)\n",
    "    output = circuit(angles).tolist()\n",
    "    return str(output)\n",
    "\n",
    "def check(solution_output: str, expected_output: str) -> None:\n",
    "    solution_output = json.loads(solution_output)\n",
    "    expected_output = json.loads(expected_output)\n",
    "\n",
    "    assert np.allclose(solution_output, expected_output, rtol=1e-4)"
   ]
  },
  {
   "cell_type": "markdown",
   "id": "f11a9c4a",
   "metadata": {},
   "source": [
    "### Test cases\n",
    " Running the cell below will load the test cases. ***Do not modify the cell***.\n",
    " - input: [1.0, 1.5, 2.0, 2.5]\n",
    " \t+ expected output: [0.79967628, 0.20032372]\n",
    " - input: [1.0, 1.1, 2.2, 1.5]\n",
    " \t+ expected output: [0.47635943, 0.52364057]\n",
    " - input: [5.1, 6.1, 0.2, 2.5]\n",
    " \t+ expected output: [0.44527313, 0.55472687]"
   ]
  },
  {
   "cell_type": "code",
   "execution_count": null,
   "id": "1520d1be",
   "metadata": {},
   "outputs": [],
   "source": [
    "test_cases = [['[1.0, 1.5, 2.0, 2.5]', '[0.79967628, 0.20032372]'], ['[1.0, 1.1, 2.2, 1.5]', '[0.47635943, 0.52364057]'], ['[5.1, 6.1, 0.2, 2.5]', '[0.44527313, 0.55472687]']]"
   ]
  },
  {
   "cell_type": "markdown",
   "id": "4c5a7e22",
   "metadata": {},
   "source": [
    "### Solution testing\n",
    " Once you have run every cell above, including the one with your code, the cell below will test your solution. Run the cell. If you are correct for all of the test cases, it means your solutions is correct. Otherwise, you need to double check your work. ***Do not modify the cell below.***"
   ]
  },
  {
   "cell_type": "code",
   "execution_count": null,
   "id": "d1feb2b9",
   "metadata": {},
   "outputs": [],
   "source": [
    "for i, (input_, expected_output) in enumerate(test_cases):\n",
    "    print(f\"Running test case {i} with input '{input_}'...\")\n",
    "\n",
    "    try:\n",
    "        output = run(input_)\n",
    "\n",
    "    except Exception as exc:\n",
    "        print(f\"Runtime Error. {exc}\")\n",
    "\n",
    "    else:\n",
    "        if message := check(output, expected_output):\n",
    "            print(f\"Wrong Answer. Have: '{output}'. Want: '{expected_output}'.\")\n",
    "\n",
    "        else:\n",
    "            print(\"Correct!\")"
   ]
  }
 ],
 "metadata": {},
 "nbformat": 4,
 "nbformat_minor": 5
}
