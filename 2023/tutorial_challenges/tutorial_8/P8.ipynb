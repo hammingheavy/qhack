{
 "cells": [
  {
   "cell_type": "code",
   "execution_count": 32,
   "metadata": {},
   "outputs": [],
   "source": [
    "import json\n",
    "import pennylane as qml\n",
    "from pennylane import numpy as np"
   ]
  },
  {
   "cell_type": "code",
   "execution_count": 33,
   "metadata": {},
   "outputs": [],
   "source": [
    "# Uneditable section #\n",
    "n_qubits = 4\n",
    "dev = qml.device(\"default.qubit\", wires=n_qubits)\n",
    "\n",
    "@qml.qnode(dev)\n",
    "def circuit(angles):\n",
    "    \"\"\"A quantum circuit made from the quantum function U.\n",
    "\n",
    "    Args:\n",
    "        angles (list(float)): A list of angles containing theta_0, theta_1, theta_2, and theta_3 in that order. \n",
    "    Returns:\n",
    "        (numpy.tensor): The probability of the fourth qubit.\n",
    "    \"\"\"\n",
    "    # End of uneditable section #\n",
    "\n",
    "    # Put your code here #\n",
    "    qml.broadcast(qml.Hadamard, wires=[0, 1, 2, 3], pattern=\"single\")\n",
    "    qml.RX(angles[0], wires=0)\n",
    "    qml.broadcast(qml.CNOT, wires=[0, 3, 2, 1], pattern=\"double\")\n",
    "    # qml.CNOT(wires=[0, 3])\n",
    "    # qml.CNOT(wires=[2, 1])\n",
    "    o1 = qml.measure(wires=0)\n",
    "    o2 = qml.measure(wires=2)\n",
    "    o = o1 + o2\n",
    "\n",
    "    qml.cond(o >= 1, qml.U3)(angles[1], angles[2], angles[3], wires=3)\n",
    "    qml.PauliZ(wires=3)\n",
    "    \n",
    "    # Uneditable section #\n",
    "    return qml.probs(wires=3)"
   ]
  },
  {
   "cell_type": "code",
   "execution_count": 34,
   "metadata": {},
   "outputs": [],
   "source": [
    "def run(test_case_input: str) -> str:\n",
    "    angles = json.loads(test_case_input)\n",
    "    output = circuit(angles).tolist()\n",
    "    return str(output)\n",
    "\n",
    "def check(solution_output: str, expected_output: str) -> None:\n",
    "    solution_output = json.loads(solution_output)\n",
    "    expected_output = json.loads(expected_output)\n",
    "\n",
    "    assert np.allclose(solution_output, expected_output, rtol=1e-4)"
   ]
  },
  {
   "cell_type": "code",
   "execution_count": 35,
   "metadata": {},
   "outputs": [],
   "source": [
    "test_cases = [['[1.0, 1.5, 2.0, 2.5]', '[0.79967628, 0.20032372]'], ['[1.0, 1.1, 2.2, 1.5]', '[0.47635943, 0.52364057]'], ['[5.1, 6.1, 0.2, 2.5]', '[0.44527313, 0.55472687]']]"
   ]
  },
  {
   "cell_type": "code",
   "execution_count": 36,
   "metadata": {},
   "outputs": [
    {
     "name": "stdout",
     "output_type": "stream",
     "text": [
      "Running test case 0 with input '[1.0, 1.5, 2.0, 2.5]'...\n",
      "Correct!\n",
      "Running test case 1 with input '[1.0, 1.1, 2.2, 1.5]'...\n",
      "Correct!\n",
      "Running test case 2 with input '[5.1, 6.1, 0.2, 2.5]'...\n",
      "Correct!\n"
     ]
    }
   ],
   "source": [
    "for i, (input_, expected_output) in enumerate(test_cases):\n",
    "    print(f\"Running test case {i} with input '{input_}'...\")\n",
    "\n",
    "    try:\n",
    "        output = run(input_)\n",
    "\n",
    "    except Exception as exc:\n",
    "        print(f\"Runtime Error. {exc}\")\n",
    "\n",
    "    else:\n",
    "        if message := check(output, expected_output):\n",
    "            print(f\"Wrong Answer. Have: '{output}'. Want: '{expected_output}'.\")\n",
    "\n",
    "        else:\n",
    "            print(\"Correct!\")"
   ]
  }
 ],
 "metadata": {
  "kernelspec": {
   "display_name": "Python 3",
   "language": "python",
   "name": "python3"
  },
  "language_info": {
   "codemirror_mode": {
    "name": "ipython",
    "version": 3
   },
   "file_extension": ".py",
   "mimetype": "text/x-python",
   "name": "python",
   "nbconvert_exporter": "python",
   "pygments_lexer": "ipython3",
   "version": "3.12.0"
  }
 },
 "nbformat": 4,
 "nbformat_minor": 2
}
