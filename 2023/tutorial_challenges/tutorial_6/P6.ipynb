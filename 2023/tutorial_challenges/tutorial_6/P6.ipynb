{
 "cells": [
  {
   "cell_type": "code",
   "execution_count": 1,
   "metadata": {},
   "outputs": [],
   "source": [
    "import json\n",
    "import pennylane as qml\n",
    "from pennylane import numpy as np"
   ]
  },
  {
   "cell_type": "markdown",
   "metadata": {},
   "source": [
    "You will be tasked with creating the Hamiltonian\n",
    "\n",
    "$$\n",
    "H = \\frac{1}{3} \\sum_{i < j} X_i X_j - \\sum_{i = 0}^{n-1} Z_i,\n",
    "$$\n",
    "\n",
    "where $n$ is the number of qubits, $X_i$ and $Z_i$ are the familiar Pauli X and Z operators, respectively, and $\\sum_{i < j}$ denotes a sum over all pairs (e.g. for $n = 3$, the pairs are (i, j) = (0, 1), (0, 2), (1, 2)). Note that we're indexing from 0!\n",
    "\n",
    "In this challenge, you need to create the following quantum circuit simulation that returns the expectation value of this Hamiltonian."
   ]
  },
  {
   "cell_type": "code",
   "execution_count": 2,
   "metadata": {},
   "outputs": [],
   "source": [
    "# Uneditable section #\n",
    "def hamiltonian(num_wires):\n",
    "    \"\"\"A function for creating the Hamiltonian in question for a general\n",
    "    number of qubits.\n",
    "\n",
    "    Args:\n",
    "        num_wires (int): The number of qubits.\n",
    "\n",
    "    Returns:\n",
    "        (qml.Hamiltonian): A PennyLane Hamiltonian.\n",
    "    \"\"\"\n",
    "    # End of uneditable section #\n",
    "\n",
    "    # Put your solution here #\n",
    "    def pairwise_sum(num_wires):\n",
    "        pairs = [(i, j) for i in range(num_wires) for j in range(i + 1, num_wires)]\n",
    "        sums = [qml.PauliX(i) @ qml.PauliX(j) for (i, j) in pairs]\n",
    "        return 1/3 * sum(sums)\n",
    "    \n",
    "    def z_sum(num_wires):\n",
    "        return sum([qml.PauliZ(i) for i in range(num_wires)])\n",
    "    \n",
    "    return pairwise_sum(num_wires) - z_sum(num_wires)\n",
    "\n",
    "# Uneditable section #\n",
    "def expectation_value(num_wires):\n",
    "    \"\"\"Simulates the circuit in question and returns the expectation value of the \n",
    "    Hamiltonian in question.\n",
    "\n",
    "    Args:\n",
    "        num_wires (int): The number of qubits.\n",
    "\n",
    "    Returns:\n",
    "        (float): The expectation value of the Hamiltonian.\n",
    "    \"\"\"\n",
    "    # End of uneditable section #\n",
    "\n",
    "    # Put your solution here #\n",
    "\n",
    "    # Define a device using qml.device\n",
    "    dev = qml.device(\"default.qubit\", wires=num_wires)\n",
    "\n",
    "\n",
    "    # Uneditable section #\n",
    "    @qml.qnode(dev)\n",
    "    def circuit(num_wires):\n",
    "        \"\"\"A quantum circuit with Hadamard gates on every qubit and that measures\n",
    "        the expectation value of the Hamiltonian in question. \n",
    "        \"\"\"\n",
    "\n",
    "        # End of uneditable section #\n",
    "\n",
    "        # Put Hadamard gates here #\n",
    "        for i in range(num_wires):\n",
    "            qml.Hadamard(wires=i)\n",
    "\n",
    "        # Then return the expectation value of the Hamiltonian using qml.expval\n",
    "        return qml.expval(hamiltonian(num_wires))\n",
    "    \n",
    "    # Uneditable section #\n",
    "    return circuit(num_wires)"
   ]
  },
  {
   "cell_type": "code",
   "execution_count": 3,
   "metadata": {},
   "outputs": [],
   "source": [
    "def run(test_case_input: str) -> str:\n",
    "    num_wires = json.loads(test_case_input)\n",
    "    output = expectation_value(num_wires)\n",
    "\n",
    "    return str(output)\n",
    "\n",
    "def check(solution_output: str, expected_output: str) -> None:\n",
    "    solution_output = json.loads(solution_output)\n",
    "    expected_output = json.loads(expected_output)\n",
    "    assert np.allclose(solution_output, expected_output, rtol=1e-4)"
   ]
  },
  {
   "cell_type": "code",
   "execution_count": 4,
   "metadata": {},
   "outputs": [],
   "source": [
    "test_cases = [['8', '9.33333'], ['5', '3.33333']]"
   ]
  },
  {
   "cell_type": "code",
   "execution_count": 5,
   "metadata": {},
   "outputs": [
    {
     "name": "stdout",
     "output_type": "stream",
     "text": [
      "Running test case 0 with input '8'...\n",
      "Correct!\n",
      "Running test case 1 with input '5'...\n",
      "Correct!\n"
     ]
    }
   ],
   "source": [
    "for i, (input_, expected_output) in enumerate(test_cases):\n",
    "    print(f\"Running test case {i} with input '{input_}'...\")\n",
    "\n",
    "    try:\n",
    "        output = run(input_)\n",
    "\n",
    "    except Exception as exc:\n",
    "        print(f\"Runtime Error. {exc}\")\n",
    "\n",
    "    else:\n",
    "        if message := check(output, expected_output):\n",
    "            print(f\"Wrong Answer. Have: '{output}'. Want: '{expected_output}'.\")\n",
    "\n",
    "        else:\n",
    "            print(\"Correct!\")"
   ]
  }
 ],
 "metadata": {
  "kernelspec": {
   "display_name": "Python 3",
   "language": "python",
   "name": "python3"
  },
  "language_info": {
   "codemirror_mode": {
    "name": "ipython",
    "version": 3
   },
   "file_extension": ".py",
   "mimetype": "text/x-python",
   "name": "python",
   "nbconvert_exporter": "python",
   "pygments_lexer": "ipython3",
   "version": "3.12.0"
  }
 },
 "nbformat": 4,
 "nbformat_minor": 2
}
