{
 "cells": [
  {
   "cell_type": "markdown",
   "id": "d1b6f5fe",
   "metadata": {},
   "source": [
    "## Challenge code\n",
    " \n",
    " In the code below, you are given a function called `circuit`. **You must complete this function** by specifying a device, turning `circuit` into a QNode, and providing the appropriate gates. \n",
    " \n",
    " Here are some helpful resources:\n",
    " \n",
    " - [Creating a quantum circuit — YouTube video](https://youtu.be/2T8lSejPFog)\n",
    " - [Basic tutorial: qubit rotation](https://pennylane.ai/qml/demos/tutorial_qubit_rotation.html)\n",
    " - [Quantum circuits in PennyLane](https://docs.pennylane.ai/en/stable/introduction/circuits.html#quantum-functions)\n",
    " \n",
    " ### Input \n",
    " \n",
    " As input to this problem, you are given two `angles` (`list(float)`). The first and second entries of `angles` correspond to $\\theta_0$ and $\\theta_1$ in the diagram above.\n",
    " \n",
    " ### Output\n",
    " \n",
    " This code must output the probabilities (`numpy.tensor`) resulting from the quantum circuit pictured above. \n",
    " \n",
    " If your solution matches the correct one within the given tolerance specified in `check` (in this case it's a `1e-4` relative error tolerance), the output will be `\"Correct!\"` Otherwise, you will receive a `\"Wrong answer\"` prompt.\n",
    " \n",
    " Good luck!\n",
    " ### Imports\n",
    " The cell below specifies the libraries you should use in this challenge. Run the cell to import the libraries. ***Do not modify the cell.***"
   ]
  },
  {
   "cell_type": "code",
   "execution_count": null,
   "id": "592044df",
   "metadata": {},
   "outputs": [],
   "source": [
    "import json\n",
    "import pennylane as qml\n",
    "from pennylane import numpy as np"
   ]
  },
  {
   "cell_type": "markdown",
   "id": "784cdade",
   "metadata": {},
   "source": [
    "### Code\n",
    " Complete the code below. Note that during QHack, some sections were not editable. We've marked those sections accordingly here, but you can still edit them if you wish."
   ]
  },
  {
   "cell_type": "code",
   "execution_count": null,
   "id": "443c4b39",
   "metadata": {},
   "outputs": [],
   "source": [
    "# Put your code here #\n",
    "\n",
    "# Create a default.qubit device with 2 qubits / wires using qml.device\n",
    "\n",
    "# Turn your circuit into a QNode\n",
    "\n",
    "def circuit(angles):\n",
    "    \"\"\"The quantum circuit that you will simulate.\n",
    "\n",
    "    Args:\n",
    "        angles (list(float)): The gate angles in the circuit.\n",
    "\n",
    "    Returns:\n",
    "        (numpy.tensor): \n",
    "            The probability vector of the underlying quantum state that this circuit produces.\n",
    "    \"\"\"\n",
    "    # Put the rotation gates here\n",
    "    return qml.probs(wires=[0, 1])"
   ]
  },
  {
   "cell_type": "markdown",
   "id": "ccf83d90",
   "metadata": {},
   "source": [
    "These functions are responsible for testing the solution. You will need to run the cell below. ***Do not modify the cell.***"
   ]
  },
  {
   "cell_type": "code",
   "execution_count": null,
   "id": "44bc4613",
   "metadata": {},
   "outputs": [],
   "source": [
    "def run(test_case_input: str) -> str:\n",
    "    angles = json.loads(test_case_input)\n",
    "    output = circuit(angles).tolist()\n",
    "\n",
    "    return str(output)\n",
    "\n",
    "def check(solution_output: str, expected_output: str) -> None:\n",
    "    solution_output = json.loads(solution_output)\n",
    "    expected_output = json.loads(expected_output)\n",
    "    assert np.allclose(solution_output, expected_output, rtol=1e-4)"
   ]
  },
  {
   "cell_type": "markdown",
   "id": "2970bfac",
   "metadata": {},
   "source": [
    "### Test cases\n",
    " Running the cell below will load the test cases. ***Do not modify the cell***.\n",
    " - input: [1.23, 4.56]\n",
    " \t+ expected output: [0.2829251572359589, 0.3841937063262924, 0.1411749135148633, 0.19170622292288542]\n",
    " - input: [7.89, 0.12]\n",
    " \t+ expected output: [0.48026161094775754, 0.001733099740534947, 0.5161427069791756, 0.001862582332531926]"
   ]
  },
  {
   "cell_type": "code",
   "execution_count": null,
   "id": "2284a1ea",
   "metadata": {},
   "outputs": [],
   "source": [
    "test_cases = [['[1.23, 4.56]', '[0.2829251572359589, 0.3841937063262924, 0.1411749135148633, 0.19170622292288542]'], ['[7.89, 0.12]', '[0.48026161094775754, 0.001733099740534947, 0.5161427069791756, 0.001862582332531926]']]"
   ]
  },
  {
   "cell_type": "markdown",
   "id": "375a2b5c",
   "metadata": {},
   "source": [
    "### Solution testing\n",
    " Once you have run every cell above, including the one with your code, the cell below will test your solution. Run the cell. If you are correct for all of the test cases, it means your solutions is correct. Otherwise, you need to double check your work. ***Do not modify the cell below.***"
   ]
  },
  {
   "cell_type": "code",
   "execution_count": null,
   "id": "780bb0ef",
   "metadata": {},
   "outputs": [],
   "source": [
    "for i, (input_, expected_output) in enumerate(test_cases):\n",
    "    print(f\"Running test case {i} with input '{input_}'...\")\n",
    "\n",
    "    try:\n",
    "        output = run(input_)\n",
    "\n",
    "    except Exception as exc:\n",
    "        print(f\"Runtime Error. {exc}\")\n",
    "\n",
    "    else:\n",
    "        if message := check(output, expected_output):\n",
    "            print(f\"Wrong Answer. Have: '{output}'. Want: '{expected_output}'.\")\n",
    "\n",
    "        else:\n",
    "            print(\"Correct!\")"
   ]
  }
 ],
 "metadata": {},
 "nbformat": 4,
 "nbformat_minor": 5
}
