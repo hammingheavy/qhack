{
 "cells": [
  {
   "cell_type": "markdown",
   "id": "c7539099",
   "metadata": {},
   "source": [
    "## Challenge code\n",
    " \n",
    " In the code below, you must complete the following functions:\n",
    " \n",
    " - `three_optimization_steps`: performs three optimization steps. **You must complete this function**.\n",
    " - `cost`: this is within the `three_optimization_steps` function. **You must complete this function**. `cost` is a QNode that does a few things:\n",
    "   + acts on 3 qubits only;\n",
    "   + embeds the input `data` via [amplitude embedding](https://docs.pennylane.ai/en/stable/code/api/pennylane.AmplitudeEmbedding.html);\n",
    "   + defines some differentiable gates via a template called [qml.BasicEntanglerLayers](https://docs.pennylane.ai/en/stable/code/api/pennylane.BasicEntanglerLayers.html); and\n",
    "   + returns the expectation value of $\\sum_{i = 1}^n Z_i$, where $n$ is the number of qubits.\n",
    " \n",
    " Within the `three_optimization_steps` function is a variable called `weights`. These are the changeable parameters that help define the `qml.BasicEntanglerLayers` template that you must put in the `cost` function. `weights` are the parameters that will be optimized (and need to be referred to by this name due to the final call `return cost(weights, data=data)`, which cannot be edited).\n",
    " \n",
    " To perform three optimization steps, use a gradient decent optimizer — `qml.GradientDescentOptimizer` — with a step size of $0.01$.\n",
    " \n",
    " Here are some helpful resources:\n",
    " \n",
    " - [Optimizing a quantum circuit — YouTube video](https://youtu.be/TiQ7T1h8VAQ)\n",
    " - [Basic tutorial: qubit rotation — Optimization](https://pennylane.ai/qml/demos/tutorial_qubit_rotation.html#optimization)\n",
    " \n",
    " ### Input \n",
    " \n",
    " As input to this problem, you are given classical `data` (`list(float)`) that you must embed into a quantum circuit via [amplitude embedding](https://docs.pennylane.ai/en/stable/code/api/pennylane.AmplitudeEmbedding.html).\n",
    " \n",
    " ### Output\n",
    " \n",
    " This code must output the evaluation of `cost` after three optimization steps have been performed.\n",
    " \n",
    " If your solution matches the correct one within the given tolerance specified in `check` (in this case it's a `1e-4` relative error tolerance), the output will be `\"Correct!\"` Otherwise, you will receive a `\"Wrong answer\"` prompt.\n",
    " \n",
    " Good luck!\n",
    " ### Imports\n",
    " The cell below specifies the libraries you should use in this challenge. Run the cell to import the libraries. ***Do not modify the cell.***"
   ]
  },
  {
   "cell_type": "code",
   "execution_count": null,
   "id": "42870156",
   "metadata": {},
   "outputs": [],
   "source": [
    "import json\n",
    "import pennylane as qml\n",
    "from pennylane import numpy as np"
   ]
  },
  {
   "cell_type": "markdown",
   "id": "cdf0d008",
   "metadata": {},
   "source": [
    "### Code\n",
    " Complete the code below. Note that during QHack, some sections were not editable. We've marked those sections accordingly here, but you can still edit them if you wish."
   ]
  },
  {
   "cell_type": "code",
   "execution_count": null,
   "id": "65b13859",
   "metadata": {},
   "outputs": [],
   "source": [
    "# Uneditable section #\n",
    "\n",
    "def three_optimization_steps(data):\n",
    "    \"\"\"Performs three optimization steps on a quantum machine learning model.\n",
    "\n",
    "    Args:\n",
    "        data (list(float)): Classical data that is to be embedded in a quantum circuit.\n",
    "\n",
    "    Returns:\n",
    "        (float): The cost function evaluated after three optimization steps.\n",
    "    \"\"\"\n",
    "\n",
    "    normalize = np.sqrt(np.sum(data[i] ** 2 for i in range(len(data))))\n",
    "    data /= normalize\n",
    "\n",
    "    dev = qml.device(\"default.qubit\", wires=3)\n",
    "\n",
    "    @qml.qnode(dev)\n",
    "    def cost(weights, data=data):\n",
    "        \"\"\"A circuit that embeds classical data and has quantum gates with tunable parameters/weights.\n",
    "\n",
    "        Args:\n",
    "            weights (numpy.array): An array of tunable parameters that help define the gates needed.\n",
    "\n",
    "        Kwargs:\n",
    "            data (list(float)): Classical data that is to be embedded in a quantum circuit.\n",
    "\n",
    "        Returns:\n",
    "            (float): The expectation value of the sum of the Pauli Z operator on every qubit.\n",
    "        \"\"\"\n",
    "        # End of uneditable section #\n",
    "\n",
    "        # Put your code here #\n",
    "\n",
    "        return\n",
    "    \n",
    "    # Uneditable section #\n",
    "\n",
    "    # initialize the weights\n",
    "    shape = qml.BasicEntanglerLayers.shape(n_layers=2, n_wires=dev.num_wires)\n",
    "    weights = np.array([0.1, 0.2, 0.3, 0.4, 0.5, 0.6], requires_grad=True).reshape(\n",
    "        shape\n",
    "    )\n",
    "\n",
    "    # End of uneditable section #\n",
    "\n",
    "    # Put your code here #\n",
    "\n",
    "    # Define a gradient descent optimizer with a step size of 0.01\n",
    "\n",
    "    # Optimize the cost function for three steps\n",
    "\n",
    "    \n",
    "    # Uneditable section #\n",
    "    return cost(weights, data=data)"
   ]
  },
  {
   "cell_type": "markdown",
   "id": "77b15394",
   "metadata": {},
   "source": [
    "These functions are responsible for testing the solution. You will need to run the cell below. ***Do not modify the cell.***"
   ]
  },
  {
   "cell_type": "code",
   "execution_count": null,
   "id": "2982e755",
   "metadata": {},
   "outputs": [],
   "source": [
    "def run(test_case_input: str) -> str:\n",
    "    data = json.loads(test_case_input)\n",
    "    cost_val = three_optimization_steps(data)\n",
    "    return str(cost_val)\n",
    "\n",
    "def check(solution_output: str, expected_output: str) -> None:\n",
    "    solution_output = json.loads(solution_output)\n",
    "    expected_output = json.loads(expected_output)\n",
    "    assert np.allclose(solution_output, expected_output, rtol=1e-4)"
   ]
  },
  {
   "cell_type": "markdown",
   "id": "d9382ed4",
   "metadata": {},
   "source": [
    "### Test cases\n",
    " Running the cell below will load the test cases. ***Do not modify the cell***.\n",
    " - input: [1.0, 2.0, 3.0, 4.0, 5.0, 6.0, 7.0, 8.0]\n",
    " \t+ expected output: 0.066040\n",
    " - input: [3.1, 1.2, 5.3, 4.4, 9.5, 7.6, 8.7, 2.8]\n",
    " \t+ expected output: 0.0153514"
   ]
  },
  {
   "cell_type": "code",
   "execution_count": null,
   "id": "f0cdead0",
   "metadata": {},
   "outputs": [],
   "source": [
    "test_cases = [['[1.0, 2.0, 3.0, 4.0, 5.0, 6.0, 7.0, 8.0]', '0.066040'], ['[3.1, 1.2, 5.3, 4.4, 9.5, 7.6, 8.7, 2.8]', '0.0153514']]"
   ]
  },
  {
   "cell_type": "markdown",
   "id": "4b3465c0",
   "metadata": {},
   "source": [
    "### Solution testing\n",
    " Once you have run every cell above, including the one with your code, the cell below will test your solution. Run the cell. If you are correct for all of the test cases, it means your solutions is correct. Otherwise, you need to double check your work. ***Do not modify the cell below.***"
   ]
  },
  {
   "cell_type": "code",
   "execution_count": null,
   "id": "17feb6d1",
   "metadata": {},
   "outputs": [],
   "source": [
    "for i, (input_, expected_output) in enumerate(test_cases):\n",
    "    print(f\"Running test case {i} with input '{input_}'...\")\n",
    "\n",
    "    try:\n",
    "        output = run(input_)\n",
    "\n",
    "    except Exception as exc:\n",
    "        print(f\"Runtime Error. {exc}\")\n",
    "\n",
    "    else:\n",
    "        if message := check(output, expected_output):\n",
    "            print(f\"Wrong Answer. Have: '{output}'. Want: '{expected_output}'.\")\n",
    "\n",
    "        else:\n",
    "            print(\"Correct!\")"
   ]
  }
 ],
 "metadata": {},
 "nbformat": 4,
 "nbformat_minor": 5
}
