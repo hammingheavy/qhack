{
 "cells": [
  {
   "cell_type": "code",
   "execution_count": 22,
   "metadata": {},
   "outputs": [],
   "source": [
    "import json\n",
    "import pennylane as qml\n",
    "from pennylane import numpy as np"
   ]
  },
  {
   "cell_type": "code",
   "execution_count": 23,
   "metadata": {},
   "outputs": [],
   "source": [
    "def is_product(state, subsystem, wires):\n",
    "    \"\"\"Determines if a pure quantum state can be written as a product state between \n",
    "    a subsystem of wires and their compliment.\n",
    "\n",
    "    Args:\n",
    "        state (numpy.array): The quantum state of interest.\n",
    "        subsystem (list(int)): The subsystem used to determine if the state is a product state.\n",
    "        wires (list(int)): The wire/qubit labels for the state. Use these for creating a QNode if you wish!\n",
    "\n",
    "    Returns:\n",
    "        (str): \"yes\" if the state is a product state or \"no\" if it isn't.\n",
    "    \"\"\"\n",
    "    # End of uneditable section #\n",
    "\n",
    "    # Put your solution here #\n",
    "    dev = qml.device('default.qubit', wires=wires)\n",
    "\n",
    "    @qml.qnode(dev)\n",
    "    def circuit(state, subsystem, wires):\n",
    "        qml.QubitStateVector(state, wires=wires)\n",
    "        return qml.purity(wires=subsystem)\n",
    "\n",
    "    if circuit(state, subsystem, wires) == 1:\n",
    "        return \"yes\"\n",
    "    else:\n",
    "        return \"no\"\n"
   ]
  },
  {
   "cell_type": "code",
   "execution_count": 24,
   "metadata": {},
   "outputs": [],
   "source": [
    "def run(test_case_input: str) -> str:\n",
    "    ins = json.loads(test_case_input)\n",
    "    state, subsystem, wires = ins\n",
    "    state = np.array(state)\n",
    "    output = is_product(state, subsystem, wires)\n",
    "    return output\n",
    "\n",
    "def check(solution_output: str, expected_output: str) -> None:\n",
    "    assert solution_output == expected_output"
   ]
  },
  {
   "cell_type": "code",
   "execution_count": 25,
   "metadata": {},
   "outputs": [],
   "source": [
    "test_cases = [['[[0.707107, 0, 0, 0.707107], [0], [0, 1]]', 'no'], ['[[1, 0, 0, 0], [0], [0, 1]]', 'yes'], ['[[0.01798476, 0.13092257, -0.02743221, 0.16026384, -0.11828744, 0.28561417, -0.33551182,  0.86484869], [0], [0, 1, 2]]', 'no'], ['[[0.5, 0.5, 0.5, 0.5, 0, 0, 0, 0], [1,2], [0, 1, 2]]', 'yes'], ['[[0, 0, 0, 0, 1, 0, 0, 0, 0, 0, 0, 0, 0, 0, 0, 0], [2, 3, 0], [0, 1, 2, 3]]', 'yes']]"
   ]
  },
  {
   "cell_type": "code",
   "execution_count": 26,
   "metadata": {},
   "outputs": [
    {
     "name": "stdout",
     "output_type": "stream",
     "text": [
      "Running test case 0 with input '[[0.707107, 0, 0, 0.707107], [0], [0, 1]]'...\n",
      "Correct!\n",
      "Running test case 1 with input '[[1, 0, 0, 0], [0], [0, 1]]'...\n",
      "Correct!\n",
      "Running test case 2 with input '[[0.01798476, 0.13092257, -0.02743221, 0.16026384, -0.11828744, 0.28561417, -0.33551182,  0.86484869], [0], [0, 1, 2]]'...\n",
      "Correct!\n",
      "Running test case 3 with input '[[0.5, 0.5, 0.5, 0.5, 0, 0, 0, 0], [1,2], [0, 1, 2]]'...\n",
      "Correct!\n",
      "Running test case 4 with input '[[0, 0, 0, 0, 1, 0, 0, 0, 0, 0, 0, 0, 0, 0, 0, 0], [2, 3, 0], [0, 1, 2, 3]]'...\n",
      "Correct!\n"
     ]
    }
   ],
   "source": [
    "for i, (input_, expected_output) in enumerate(test_cases):\n",
    "    print(f\"Running test case {i} with input '{input_}'...\")\n",
    "\n",
    "    try:\n",
    "        output = run(input_)\n",
    "\n",
    "    except Exception as exc:\n",
    "        print(f\"Runtime Error. {exc}\")\n",
    "\n",
    "    else:\n",
    "        if message := check(output, expected_output):\n",
    "            print(f\"Wrong Answer. Have: '{output}'. Want: '{expected_output}'.\")\n",
    "\n",
    "        else:\n",
    "            print(\"Correct!\")"
   ]
  }
 ],
 "metadata": {
  "kernelspec": {
   "display_name": "Python 3",
   "language": "python",
   "name": "python3"
  },
  "language_info": {
   "codemirror_mode": {
    "name": "ipython",
    "version": 3
   },
   "file_extension": ".py",
   "mimetype": "text/x-python",
   "name": "python",
   "nbconvert_exporter": "python",
   "pygments_lexer": "ipython3",
   "version": "3.12.0"
  }
 },
 "nbformat": 4,
 "nbformat_minor": 2
}
