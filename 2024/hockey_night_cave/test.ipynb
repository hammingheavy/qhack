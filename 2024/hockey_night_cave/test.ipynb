{
 "cells": [
  {
   "cell_type": "code",
   "execution_count": 8,
   "metadata": {},
   "outputs": [],
   "source": [
    "import pennylane as qml\n",
    "from pennylane import numpy as np\n",
    "from qiskit.quantum_info import Statevector\n",
    "import json"
   ]
  },
  {
   "cell_type": "code",
   "execution_count": 1,
   "metadata": {},
   "outputs": [],
   "source": [
    "# if statements don't work"
   ]
  },
  {
   "cell_type": "code",
   "execution_count": null,
   "metadata": {},
   "outputs": [],
   "source": [
    "    gamma, delta = goalie_coeffs\n",
    "\n",
    "    a = qml.measure(wires=\"player1\")\n",
    "    b = qml.measure(wires=\"player2\")\n",
    "\n",
    "    if a == 0 and b == 0:\n",
    "        gamma = np.sqrt(1 - z * abs(delta) ** 2)\n",
    "        delta = np.sqrt(z * abs(delta) ** 2)\n",
    "    elif a == 0 and b == 1:\n",
    "        delta = np.sqrt(1 - y * abs(gamma) ** 2)\n",
    "        gamma = np.sqrt(y * abs(gamma) ** 2)\n",
    "    elif a == 1 and b == 0:\n",
    "        delta = np.sqrt(1 - x * abs(gamma) ** 2)\n",
    "        gamma = np.sqrt(x * abs(gamma) ** 2)\n",
    "    elif a == 1 and b == 1:\n",
    "        gamma = np.sqrt(1 - z * abs(delta) ** 2)\n",
    "        delta = np.sqrt(z * abs(delta) ** 2)"
   ]
  },
  {
   "cell_type": "code",
   "execution_count": 5,
   "metadata": {},
   "outputs": [
    {
     "data": {
      "text/plain": [
       "tensor([0.09702126, 0.90297875], requires_grad=True)"
      ]
     },
     "execution_count": 5,
     "metadata": {},
     "output_type": "execute_result"
    }
   ],
   "source": [
    "dev = qml.device(\"default.qubit\", wires=[\"player1\", \"player2\", \"goalie\"])\n",
    "\n",
    "def state_prep(player_coeffs, goalie_coeffs):\n",
    "    alpha, beta, kappa = player_coeffs\n",
    "    gamma, delta = goalie_coeffs\n",
    "\n",
    "    # Put your code here #\n",
    "    qml.StatePrep([kappa*gamma, kappa*delta, alpha*gamma, alpha*delta, beta*gamma, beta*delta, kappa*gamma, kappa*delta], wires=[\"player1\", \"player2\", \"goalie\"])\n",
    "\n",
    "\n",
    "@qml.qnode(dev)\n",
    "def save_percentage(player_coeffs, goalie_coeffs, x, y, z):\n",
    "    state_prep(player_coeffs, goalie_coeffs)\n",
    "\n",
    "\n",
    "    # Put your code here #\n",
    "    gamma, delta = goalie_coeffs\n",
    "\n",
    "    a = qml.measure(wires=\"player1\")\n",
    "    b = qml.measure(wires=\"player2\")\n",
    "\n",
    "    q = [[np.sqrt(x), 0], [0, np.sqrt(1 - x * abs(gamma) ** 2) / np.sqrt(delta ** 2)]]\n",
    "    r = [[np.sqrt(y), 0], [0, np.sqrt(1 - y * abs(gamma) ** 2) / np.sqrt(delta ** 2)]]\n",
    "    s = [[np.sqrt(1 - z * abs(delta) ** 2) / np.sqrt(gamma ** 2), 0], [0, np.sqrt(z)]]\n",
    "\n",
    "    if a == 0 and b == 1:\n",
    "        qml.QubitUnitary(s, wires=\"goalie\")\n",
    "    elif a == 1 and b == 1:\n",
    "        qml.QubitUnitary(s, wires=\"goalie\")\n",
    "    elif a == 0 and b == 1:\n",
    "        qml.QubitUnitary(r, wires=\"goalie\")\n",
    "    elif a == 1 and b == 0:\n",
    "        qml.QubitUnitary(q, wires=\"goalie\")\n",
    "\n",
    "\n",
    "    return qml.probs(wires=\"goalie\")\n",
    "\n",
    "save_percentage([0.74199663, 0.17932039, 0.45677413], [0.28034464, 0.95989941], 0.999, 0.99, 0.98)"
   ]
  }
 ],
 "metadata": {
  "kernelspec": {
   "display_name": "Python 3",
   "language": "python",
   "name": "python3"
  },
  "language_info": {
   "codemirror_mode": {
    "name": "ipython",
    "version": 3
   },
   "file_extension": ".py",
   "mimetype": "text/x-python",
   "name": "python",
   "nbconvert_exporter": "python",
   "pygments_lexer": "ipython3",
   "version": "3.12.0"
  }
 },
 "nbformat": 4,
 "nbformat_minor": 2
}
