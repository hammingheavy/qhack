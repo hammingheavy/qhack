{
 "cells": [
  {
   "cell_type": "code",
   "execution_count": 14,
   "metadata": {},
   "outputs": [],
   "source": [
    "import pennylane as qml\n",
    "from pennylane import numpy as np\n",
    "from qiskit.quantum_info import Statevector"
   ]
  },
  {
   "cell_type": "code",
   "execution_count": 2,
   "metadata": {},
   "outputs": [],
   "source": [
    "dev = qml.device('default.qutrit', wires = 1)"
   ]
  },
  {
   "cell_type": "code",
   "execution_count": 26,
   "metadata": {},
   "outputs": [],
   "source": [
    "@qml.qnode(dev)\n",
    "def prepare_qutrit(chi, eta):\n",
    "    qml.TRY(np.pi, 0, subspace=(0, 2)) # |2>\n",
    "    qml.TRY(2 * chi, 0, subspace=(0, 2)) # cos(x)|2> + sin(x)|0>\n",
    "    qml.TRY(2 * eta, 0, subspace=(0, 1)) # required state\n",
    "    return qml.probs(wires = 0)"
   ]
  },
  {
   "cell_type": "code",
   "execution_count": 25,
   "metadata": {},
   "outputs": [
    {
     "data": {
      "text/latex": [
       "$$\\begin{align}\n",
       "\n",
       "\n",
       "\\begin{bmatrix}\n",
       "0 & 0 & 1  \\\\\n",
       " \\end{bmatrix}\n",
       "\\\\\n",
       "\\text{dims=(3,)}\n",
       "\\end{align}$$"
      ],
      "text/plain": [
       "<IPython.core.display.Latex object>"
      ]
     },
     "execution_count": 25,
     "metadata": {},
     "output_type": "execute_result"
    }
   ],
   "source": [
    "dev2 = qml.device('default.qutrit', wires = 1)\n",
    "\n",
    "@qml.qnode(dev2)\n",
    "def circuit(theta):\n",
    "    qml.TRY(theta, wires=0, subspace=(0, 2))\n",
    "    return qml.state()\n",
    "\n",
    "# circuit(np.pi)\n",
    "Statevector(circuit(np.pi)).draw(output=\"latex\")"
   ]
  },
  {
   "cell_type": "code",
   "execution_count": 28,
   "metadata": {},
   "outputs": [
    {
     "data": {
      "text/plain": [
       "1.4997597826618576e-32"
      ]
     },
     "execution_count": 28,
     "metadata": {},
     "output_type": "execute_result"
    }
   ],
   "source": [
    "prepare_qutrit(np.pi/2, np.pi/2)[2]"
   ]
  },
  {
   "cell_type": "code",
   "execution_count": null,
   "metadata": {},
   "outputs": [],
   "source": []
  }
 ],
 "metadata": {
  "kernelspec": {
   "display_name": "Python 3",
   "language": "python",
   "name": "python3"
  },
  "language_info": {
   "codemirror_mode": {
    "name": "ipython",
    "version": 3
   },
   "file_extension": ".py",
   "mimetype": "text/x-python",
   "name": "python",
   "nbconvert_exporter": "python",
   "pygments_lexer": "ipython3",
   "version": "3.12.0"
  }
 },
 "nbformat": 4,
 "nbformat_minor": 2
}
