{
 "cells": [
  {
   "cell_type": "code",
   "execution_count": 3,
   "metadata": {},
   "outputs": [],
   "source": [
    "import pennylane as qml\n",
    "from pennylane import numpy as np\n",
    "from qiskit.quantum_info import Statevector\n",
    "import json"
   ]
  },
  {
   "cell_type": "code",
   "execution_count": null,
   "metadata": {},
   "outputs": [],
   "source": [
    "# to calculate the expectation value I just need to get an expression for the Z."
   ]
  },
  {
   "cell_type": "code",
   "execution_count": 1,
   "metadata": {},
   "outputs": [],
   "source": [
    "# To find the ground state\n",
    "\n",
    "def tfim_ground_state(num_qubits, h):\n",
    "    coeffs = []\n",
    "    obs = []\n",
    "\n",
    "    # First term: -Σ Z_i Z_j\n",
    "    for i in range(num_qubits):\n",
    "        for j in range(i + 1, num_qubits):\n",
    "            coeffs.append(-1)\n",
    "            obs.append(qml.PauliZ(i) @ qml.PauliZ(j))\n",
    "\n",
    "    # Second term: -h Σ X_i\n",
    "    for i in range(num_qubits):\n",
    "        coeffs.append(-h)\n",
    "        obs.append(qml.PauliX(i))\n",
    "\n",
    "    H = qml.Hamiltonian(coeffs, obs)\n",
    "\n",
    "    (eigenvalues, eigenvectors) = qml.math.linalg.eigh(qml.matrix(H))\n",
    "\n",
    "    number = eigenvalues.argmin()\n",
    "    ground_state = eigenvectors[:,number]\n",
    "\n",
    "    return ground_state"
   ]
  },
  {
   "cell_type": "code",
   "execution_count": 5,
   "metadata": {},
   "outputs": [],
   "source": [
    "# To calculate the magnetization\n",
    "\n",
    "def magnetization(num_qubits, h):\n",
    "    ground_state = tfim_ground_state(num_qubits, h)\n",
    "    qml.StatePrep(ground_state, wires=range(num_qubits))\n",
    "\n",
    "    return AbsMagnetization(wires=range(num_qubits))\n",
    "\n"
   ]
  }
 ],
 "metadata": {
  "kernelspec": {
   "display_name": "Python 3",
   "language": "python",
   "name": "python3"
  },
  "language_info": {
   "codemirror_mode": {
    "name": "ipython",
    "version": 3
   },
   "file_extension": ".py",
   "mimetype": "text/x-python",
   "name": "python",
   "nbconvert_exporter": "python",
   "pygments_lexer": "ipython3",
   "version": "3.12.0"
  }
 },
 "nbformat": 4,
 "nbformat_minor": 2
}
