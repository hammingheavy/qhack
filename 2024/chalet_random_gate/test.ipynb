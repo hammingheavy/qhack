{
 "cells": [
  {
   "cell_type": "code",
   "execution_count": 1,
   "metadata": {},
   "outputs": [],
   "source": [
    "import pennylane as qml\n",
    "from pennylane import numpy as np\n",
    "from qiskit.quantum_info import Statevector"
   ]
  },
  {
   "cell_type": "code",
   "execution_count": 2,
   "metadata": {},
   "outputs": [],
   "source": [
    "dev = qml.device('default.qubit', wires=1) "
   ]
  },
  {
   "cell_type": "code",
   "execution_count": null,
   "metadata": {},
   "outputs": [],
   "source": [
    "@qml.qnode(dev)\n",
    "def random_gate(p,q,r):\n",
    "    ran = np.random.rand()\n",
    "    if ran < p:\n",
    "        qml.PauliX(wires=0)\n",
    "    elif p < ran < q:\n",
    "        qml.PauliY(wires=0)\n",
    "    elif ran > p and q < ran < p + q:\n",
    "        qml.PauliZ(wires=0)\n",
    "    elif ran > p and ran > q and ran < p + q + r:\n",
    "        qml.Identity(wires=0)"
   ]
  },
  {
   "cell_type": "code",
   "execution_count": 27,
   "metadata": {},
   "outputs": [
    {
     "data": {
      "text/plain": [
       "tensor([0.5, 0.5], requires_grad=True)"
      ]
     },
     "execution_count": 27,
     "metadata": {},
     "output_type": "execute_result"
    }
   ],
   "source": [
    "@qml.qnode(dev)\n",
    "def random_gate(p,q,r):\n",
    "    qml.StatePrep(np.tensor([np.sqrt(1-p-q), np.sqrt(p + q)]), wires=0)\n",
    "\n",
    "    return qml.probs(wires=0)\n",
    "\n",
    "random_gate(0.25, 0.25, 0.25)"
   ]
  }
 ],
 "metadata": {
  "kernelspec": {
   "display_name": "Python 3",
   "language": "python",
   "name": "python3"
  },
  "language_info": {
   "codemirror_mode": {
    "name": "ipython",
    "version": 3
   },
   "file_extension": ".py",
   "mimetype": "text/x-python",
   "name": "python",
   "nbconvert_exporter": "python",
   "pygments_lexer": "ipython3",
   "version": "3.12.0"
  }
 },
 "nbformat": 4,
 "nbformat_minor": 2
}
