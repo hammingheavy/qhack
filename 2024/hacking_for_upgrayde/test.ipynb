{
 "cells": [
  {
   "cell_type": "code",
   "execution_count": 1,
   "metadata": {},
   "outputs": [],
   "source": [
    "import pennylane as qml\n",
    "from pennylane import numpy as np\n",
    "from qiskit.quantum_info import Statevector"
   ]
  },
  {
   "cell_type": "code",
   "execution_count": null,
   "metadata": {},
   "outputs": [],
   "source": [
    "def binary_to_grey(num_wires):\n",
    "    for i in range(num_wires-1):\n",
    "        qml.CNOT(wires=[i,i+1])\n",
    "\n",
    "\n",
    "    # Put your solution here #\n",
    "\n",
    "\n",
    "def run(test_case_input: str) -> str:\n",
    "    binary_string = json.loads(test_case_input)\n",
    "    n_wires = int(len(binary_string))\n",
    "\n",
    "    dev = qml.device(\"default.qubit\", wires = n_wires)\n",
    "    @qml.qnode(dev)\n",
    "    def circuit():\n",
    "        qml.BasisEmbedding(binary_string, range(n_wires))\n",
    "        binary_to_grey(n_wires)\n",
    "        return qml.probs()\n",
    "    \n",
    "    output = circuit().tolist()\n",
    "    \n",
    "    return str(output)"
   ]
  }
 ],
 "metadata": {
  "kernelspec": {
   "display_name": "Python 3",
   "language": "python",
   "name": "python3"
  },
  "language_info": {
   "codemirror_mode": {
    "name": "ipython",
    "version": 3
   },
   "file_extension": ".py",
   "mimetype": "text/x-python",
   "name": "python",
   "nbconvert_exporter": "python",
   "pygments_lexer": "ipython3",
   "version": "3.12.0"
  }
 },
 "nbformat": 4,
 "nbformat_minor": 2
}
